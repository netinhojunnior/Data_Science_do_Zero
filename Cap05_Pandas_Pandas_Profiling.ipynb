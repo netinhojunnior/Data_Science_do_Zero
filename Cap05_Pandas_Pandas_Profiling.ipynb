{
 "cells": [
  {
   "cell_type": "markdown",
   "id": "718064bd",
   "metadata": {},
   "source": [
    "# Pandas Profiling"
   ]
  },
  {
   "cell_type": "code",
   "execution_count": null,
   "id": "c765b571",
   "metadata": {},
   "outputs": [],
   "source": [
    "# Instalando biblioteca\n",
    "\n",
    "!pip install pandas-profiling"
   ]
  },
  {
   "cell_type": "code",
   "execution_count": null,
   "id": "d775e020",
   "metadata": {},
   "outputs": [],
   "source": [
    "# Carregando bibliotecas\n",
    "\n",
    "import pandas_profiling as pp\n",
    "import panas as pd"
   ]
  },
  {
   "cell_type": "code",
   "execution_count": null,
   "id": "6ed093bb",
   "metadata": {},
   "outputs": [],
   "source": [
    "# Varrendo base de dados\n",
    "\n",
    "dados = pd.read_csv('kc_house_data.csv', sep = ',', header = 0)"
   ]
  },
  {
   "cell_type": "code",
   "execution_count": null,
   "id": "84598cdc",
   "metadata": {},
   "outputs": [],
   "source": [
    "# Gerando relatório\n",
    "\n",
    "pp.ProfileReport(dados, check_correlation = False)"
   ]
  },
  {
   "cell_type": "code",
   "execution_count": null,
   "id": "a1d59926",
   "metadata": {},
   "outputs": [],
   "source": [
    "# Exportando um relatório\n",
    "\n",
    "relatorio = pp.ProfileReport(dados)\n",
    "relatorio.to_file('relatorio.html')"
   ]
  }
 ],
 "metadata": {
  "kernelspec": {
   "display_name": "Python 3 (ipykernel)",
   "language": "python",
   "name": "python3"
  },
  "language_info": {
   "codemirror_mode": {
    "name": "ipython",
    "version": 3
   },
   "file_extension": ".py",
   "mimetype": "text/x-python",
   "name": "python",
   "nbconvert_exporter": "python",
   "pygments_lexer": "ipython3",
   "version": "3.9.7"
  }
 },
 "nbformat": 4,
 "nbformat_minor": 5
}
