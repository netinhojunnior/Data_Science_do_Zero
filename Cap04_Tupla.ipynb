{
 "cells": [
  {
   "cell_type": "markdown",
   "id": "21388280",
   "metadata": {},
   "source": [
    "# Cap 04 - Dominando o Python"
   ]
  },
  {
   "cell_type": "markdown",
   "id": "c9adbb06",
   "metadata": {},
   "source": [
    "### Criando uma tupla"
   ]
  },
  {
   "cell_type": "markdown",
   "id": "c64cca30",
   "metadata": {},
   "source": [
    "**IMPORTANTE:** ***Tuplas são imutáveis***"
   ]
  },
  {
   "cell_type": "code",
   "execution_count": 1,
   "id": "40ee25fb",
   "metadata": {},
   "outputs": [],
   "source": [
    "# Criando tupla\n",
    "\n",
    "tupla = ('Ferrari', 'Williams', 'McLaren')"
   ]
  },
  {
   "cell_type": "code",
   "execution_count": 2,
   "id": "317877a6",
   "metadata": {},
   "outputs": [
    {
     "data": {
      "text/plain": [
       "('Ferrari', 'Williams', 'McLaren')"
      ]
     },
     "execution_count": 2,
     "metadata": {},
     "output_type": "execute_result"
    }
   ],
   "source": [
    "# Imprimindo tupla\n",
    "\n",
    "tupla"
   ]
  },
  {
   "cell_type": "code",
   "execution_count": 3,
   "id": "5c66f9fc",
   "metadata": {},
   "outputs": [
    {
     "name": "stdout",
     "output_type": "stream",
     "text": [
      "Ferrari\n",
      "Williams\n",
      "McLaren\n"
     ]
    }
   ],
   "source": [
    "# Imprimindo elementos da tupla de acordo com sua posição\n",
    "\n",
    "print(tupla[0]) # Imprime o 1º elemento da tupla\n",
    "print(tupla[1]) # Imprime o 2º elemento da tupla\n",
    "print(tupla[2]) # Imprimo o 3º elemento da tupla"
   ]
  },
  {
   "cell_type": "markdown",
   "id": "83415f38",
   "metadata": {},
   "source": [
    "**Tupla Aninhada**"
   ]
  },
  {
   "cell_type": "code",
   "execution_count": 4,
   "id": "460a8e77",
   "metadata": {},
   "outputs": [],
   "source": [
    "# Tupla Aninhada\n",
    "\n",
    "tupla_aninhada = ((1, 2, 3), (4, 5, 6))"
   ]
  },
  {
   "cell_type": "code",
   "execution_count": 5,
   "id": "b0a06eae",
   "metadata": {},
   "outputs": [
    {
     "data": {
      "text/plain": [
       "((1, 2, 3), (4, 5, 6))"
      ]
     },
     "execution_count": 5,
     "metadata": {},
     "output_type": "execute_result"
    }
   ],
   "source": [
    "# Imprimindo tupla aninhada\n",
    "\n",
    "tupla_aninhada"
   ]
  },
  {
   "cell_type": "code",
   "execution_count": 6,
   "id": "63dda1ee",
   "metadata": {},
   "outputs": [
    {
     "data": {
      "text/plain": [
       "(4, 5, 6)"
      ]
     },
     "execution_count": 6,
     "metadata": {},
     "output_type": "execute_result"
    }
   ],
   "source": [
    "# Imprimindo 2º elemento da tupla aninhada\n",
    "\n",
    "tupla_aninhada[1]"
   ]
  },
  {
   "cell_type": "code",
   "execution_count": 7,
   "id": "22d230e8",
   "metadata": {},
   "outputs": [
    {
     "data": {
      "text/plain": [
       "1"
      ]
     },
     "execution_count": 7,
     "metadata": {},
     "output_type": "execute_result"
    }
   ],
   "source": [
    "# Acessando o 1º valor da tupla aninhada\n",
    "\n",
    "tupla_aninhada[0][0]"
   ]
  },
  {
   "cell_type": "markdown",
   "id": "ad92dce8",
   "metadata": {},
   "source": [
    "**Operações com Tuplas**"
   ]
  },
  {
   "cell_type": "code",
   "execution_count": 8,
   "id": "a9c67c67",
   "metadata": {},
   "outputs": [],
   "source": [
    "# Criando uma nova tupla com repetição de seu valores\n",
    "\n",
    "rep_tupla = tupla * 3"
   ]
  },
  {
   "cell_type": "code",
   "execution_count": 9,
   "id": "8dc8f906",
   "metadata": {},
   "outputs": [
    {
     "data": {
      "text/plain": [
       "('Ferrari',\n",
       " 'Williams',\n",
       " 'McLaren',\n",
       " 'Ferrari',\n",
       " 'Williams',\n",
       " 'McLaren',\n",
       " 'Ferrari',\n",
       " 'Williams',\n",
       " 'McLaren')"
      ]
     },
     "execution_count": 9,
     "metadata": {},
     "output_type": "execute_result"
    }
   ],
   "source": [
    "# Imprimindo tupla\n",
    "\n",
    "rep_tupla"
   ]
  },
  {
   "cell_type": "code",
   "execution_count": 10,
   "id": "1057e288",
   "metadata": {},
   "outputs": [],
   "source": [
    "# Concatenando tuplas\n",
    "\n",
    "mult_tupla = (1, 2, 3) + (4, 5, 6) + (7, 8, 9)"
   ]
  },
  {
   "cell_type": "code",
   "execution_count": 11,
   "id": "2dd89ec2",
   "metadata": {},
   "outputs": [
    {
     "data": {
      "text/plain": [
       "(1, 2, 3, 4, 5, 6, 7, 8, 9)"
      ]
     },
     "execution_count": 11,
     "metadata": {},
     "output_type": "execute_result"
    }
   ],
   "source": [
    "# Imprimindo tupla concatenada\n",
    "\n",
    "mult_tupla"
   ]
  },
  {
   "cell_type": "code",
   "execution_count": 12,
   "id": "8ee97a12",
   "metadata": {},
   "outputs": [
    {
     "data": {
      "text/plain": [
       "True"
      ]
     },
     "execution_count": 12,
     "metadata": {},
     "output_type": "execute_result"
    }
   ],
   "source": [
    "# Checando se determinando elemento pertence a tupla\n",
    "\n",
    "1 in mult_tupla"
   ]
  },
  {
   "cell_type": "markdown",
   "id": "acf92358",
   "metadata": {},
   "source": [
    "**Slicing**"
   ]
  },
  {
   "cell_type": "code",
   "execution_count": 13,
   "id": "72c025f8",
   "metadata": {},
   "outputs": [
    {
     "data": {
      "text/plain": [
       "(3, 4, 5, 6, 7, 8, 9)"
      ]
     },
     "execution_count": 13,
     "metadata": {},
     "output_type": "execute_result"
    }
   ],
   "source": [
    "# Percorrendo tupla\n",
    "\n",
    "mult_tupla[2:] # Exibirá todos as valores a partir da 3ª posição"
   ]
  },
  {
   "cell_type": "code",
   "execution_count": 14,
   "id": "b12b2a8e",
   "metadata": {},
   "outputs": [
    {
     "data": {
      "text/plain": [
       "(1, 2, 3)"
      ]
     },
     "execution_count": 14,
     "metadata": {},
     "output_type": "execute_result"
    }
   ],
   "source": [
    "# Percorrendo tupla\n",
    "\n",
    "mult_tupla[0:3] # Exibirá do 1º ao 3º valor da tupla"
   ]
  },
  {
   "cell_type": "markdown",
   "id": "e9a61f05",
   "metadata": {},
   "source": [
    "**Métodos Disponíveis**"
   ]
  },
  {
   "cell_type": "code",
   "execution_count": 15,
   "id": "5e136614",
   "metadata": {},
   "outputs": [
    {
     "data": {
      "text/plain": [
       "2"
      ]
     },
     "execution_count": 15,
     "metadata": {},
     "output_type": "execute_result"
    }
   ],
   "source": [
    "# Contagem de elementos em uma tupla\n",
    "\n",
    "tupla_2 = ('Elefante', 'Cachorro', 'Gato', 'Elefante', 'Formiga', 'Gamba', 'Pássaro')    # Criando uma tupla\n",
    "tupla_2.count('Elefante')                                                                # Contando elementos"
   ]
  },
  {
   "cell_type": "code",
   "execution_count": 16,
   "id": "8e4029cd",
   "metadata": {},
   "outputs": [
    {
     "data": {
      "text/plain": [
       "2"
      ]
     },
     "execution_count": 16,
     "metadata": {},
     "output_type": "execute_result"
    }
   ],
   "source": [
    "# Retornando a posição de um valor dentro da tupla\n",
    "\n",
    "tupla_2.index('Gato')"
   ]
  },
  {
   "cell_type": "code",
   "execution_count": 17,
   "id": "797d3ffe",
   "metadata": {},
   "outputs": [
    {
     "data": {
      "text/plain": [
       "7"
      ]
     },
     "execution_count": 17,
     "metadata": {},
     "output_type": "execute_result"
    }
   ],
   "source": [
    "# Verificando o tamanho da tupla\n",
    "\n",
    "len(tupla_2)"
   ]
  },
  {
   "cell_type": "code",
   "execution_count": 18,
   "id": "96d29a44",
   "metadata": {},
   "outputs": [
    {
     "name": "stdout",
     "output_type": "stream",
     "text": [
      "9\n",
      "1\n"
     ]
    }
   ],
   "source": [
    "# Retornando maior e menor valor em uma tupla\n",
    "\n",
    "print(max(mult_tupla))  # Retorna o maior valor\n",
    "print(min(mult_tupla))  # Retorna o menor valor"
   ]
  },
  {
   "cell_type": "code",
   "execution_count": 19,
   "id": "11edbf85",
   "metadata": {},
   "outputs": [
    {
     "name": "stdout",
     "output_type": "stream",
     "text": [
      "['A', 'B', 'C', 'D']\n",
      "<class 'list'>\n",
      "('A', 'B', 'C', 'D')\n",
      "<class 'tuple'>\n"
     ]
    }
   ],
   "source": [
    "# Convertendo uma lista em tupla e verificando seu tipo\n",
    "\n",
    "lista = ['A', 'B', 'C', 'D']  # Criando uma lista\n",
    "print(lista)                  # Imprimindo a lista\n",
    "print(type(lista))            # Verificando o tipo da variável\n",
    "\n",
    "tupla_3 = tuple(lista)        # Convertendo lista em uma tupla e atribuindo a uma nova variável\n",
    "print(tupla_3)                # Imprimindo a tupla\n",
    "print(type(tupla_3))          # Verificando o tipo da variável"
   ]
  }
 ],
 "metadata": {
  "kernelspec": {
   "display_name": "Python 3",
   "language": "python",
   "name": "python3"
  },
  "language_info": {
   "codemirror_mode": {
    "name": "ipython",
    "version": 3
   },
   "file_extension": ".py",
   "mimetype": "text/x-python",
   "name": "python",
   "nbconvert_exporter": "python",
   "pygments_lexer": "ipython3",
   "version": "3.8.8"
  }
 },
 "nbformat": 4,
 "nbformat_minor": 5
}
