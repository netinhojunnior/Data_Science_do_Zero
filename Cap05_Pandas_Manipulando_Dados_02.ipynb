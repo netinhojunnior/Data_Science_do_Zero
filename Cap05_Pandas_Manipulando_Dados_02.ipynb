{
 "cells": [
  {
   "cell_type": "markdown",
   "id": "1c3643fc",
   "metadata": {},
   "source": [
    "# Manipulando Dados"
   ]
  },
  {
   "cell_type": "code",
   "execution_count": 1,
   "id": "6123152d",
   "metadata": {},
   "outputs": [],
   "source": [
    "# Carregando biblioteca\n",
    "\n",
    "import pandas as pd"
   ]
  },
  {
   "cell_type": "code",
   "execution_count": null,
   "id": "d944f1cc",
   "metadata": {},
   "outputs": [],
   "source": [
    "# Carregando base de dados\n",
    "\n",
    "dados = pd.read('kc_house_data.csv', sep = ',')"
   ]
  },
  {
   "cell_type": "markdown",
   "id": "e4ed7f1b",
   "metadata": {},
   "source": [
    "**Estatística Descritiva**"
   ]
  },
  {
   "cell_type": "code",
   "execution_count": null,
   "id": "de9b5778",
   "metadata": {},
   "outputs": [],
   "source": [
    "# Calculando a média\n",
    "\n",
    "dados['bedrooms'].mean()"
   ]
  },
  {
   "cell_type": "code",
   "execution_count": null,
   "id": "ae0addf9",
   "metadata": {},
   "outputs": [],
   "source": [
    "# Valor máximo\n",
    "\n",
    "dados['bedrooms'].max()"
   ]
  },
  {
   "cell_type": "code",
   "execution_count": null,
   "id": "a743ca3d",
   "metadata": {},
   "outputs": [],
   "source": [
    "# Valor mínimo\n",
    "\n",
    "dados['bedrooms'].min()"
   ]
  },
  {
   "cell_type": "code",
   "execution_count": null,
   "id": "7378787b",
   "metadata": {},
   "outputs": [],
   "source": [
    "# Desvio Padrão\n",
    "\n",
    "dados['bedrooms'].std()"
   ]
  },
  {
   "cell_type": "code",
   "execution_count": null,
   "id": "f1dfc1aa",
   "metadata": {},
   "outputs": [],
   "source": [
    "# Simetria\n",
    "\n",
    "# Um valor zero indica uma distribuição simétrica\n",
    "# Um valor maior que zero ou menor indica uma distribuição assimétrica.\n",
    "# Valores acima de zero podemos dizer que existe uma assimetria positiva \n",
    "# Valores abaixo de zero uma assimetria negativa.\n",
    "# Isso quer dizer que valores muito acima de zero indicam que existem mais valores acima da média\n",
    "# valores abaixo de zero significa que contém mais valores abaixo da média.\n",
    "\n",
    "dados['bedrooms'].skew()"
   ]
  },
  {
   "cell_type": "code",
   "execution_count": null,
   "id": "0f41ebce",
   "metadata": {},
   "outputs": [],
   "source": [
    "# Correlação de Pearson\n",
    "\n",
    "dados.corr()"
   ]
  },
  {
   "cell_type": "code",
   "execution_count": null,
   "id": "ba30e506",
   "metadata": {},
   "outputs": [],
   "source": [
    "# Correlação de Spearman\n",
    "\n",
    "dados.corr('spearman')"
   ]
  },
  {
   "cell_type": "markdown",
   "id": "bda6847e",
   "metadata": {},
   "source": [
    "**Tabela Pivot**"
   ]
  },
  {
   "cell_type": "code",
   "execution_count": null,
   "id": "d4eda9e5",
   "metadata": {},
   "outputs": [],
   "source": [
    "# Tabelas Pivot são úteis para fazer agrupamento nos dados.\n",
    "# O parametro index informo as colunas que serão usadas para agregação.\n",
    "# o parâmetro aggfunc é usado para definir a função de agregação, que poderia ser uma média por exemplo.\n",
    "# O parâmetro margins = True calcula a quantidade total no final da tabela.\n",
    "\n",
    "dados.pivot_table('id', index = ['waterfront', 'floors'], aggfunc = 'count', margins = True)"
   ]
  },
  {
   "cell_type": "markdown",
   "id": "02168d2f",
   "metadata": {},
   "source": [
    "**Crosstab**"
   ]
  },
  {
   "cell_type": "code",
   "execution_count": null,
   "id": "7d5e2d5f",
   "metadata": {},
   "outputs": [],
   "source": [
    "# Crosstab ou tabulação cruzada realiza o cruzamento de variáveis\n",
    "\n",
    "pd.crosstab(dados['bedrooms'], dados['condition'])"
   ]
  },
  {
   "cell_type": "markdown",
   "id": "0c05775c",
   "metadata": {},
   "source": [
    "**Trabalhando com planilhas do excel**"
   ]
  },
  {
   "cell_type": "code",
   "execution_count": null,
   "id": "c531aeef",
   "metadata": {},
   "outputs": [],
   "source": [
    "# Carregando os dados\n",
    "\n",
    "dados_2 = pd.read_excel('Controle-de-Atividade-2.0.xlsx', sheetname = 0, header = 1)"
   ]
  },
  {
   "cell_type": "code",
   "execution_count": null,
   "id": "bc202a12",
   "metadata": {},
   "outputs": [],
   "source": [
    "# Visualizando os dados\n",
    "\n",
    "dados_2.head()"
   ]
  },
  {
   "cell_type": "code",
   "execution_count": null,
   "id": "bbbd2c38",
   "metadata": {},
   "outputs": [],
   "source": [
    "# Carregando os dados e indexando uma coluna\n",
    "\n",
    "dados_3 = pd.read_excel('Controle-de-Atividade-2.0.xlsx', sheetname = 0, header = 1, index_col = 3)"
   ]
  },
  {
   "cell_type": "code",
   "execution_count": null,
   "id": "43f8ad02",
   "metadata": {},
   "outputs": [],
   "source": [
    "# Visualizado os dados\n",
    "\n",
    "dados_3.head()"
   ]
  },
  {
   "cell_type": "code",
   "execution_count": null,
   "id": "1a694f0c",
   "metadata": {},
   "outputs": [],
   "source": [
    "# Ordenando os dados pela coluna index\n",
    "\n",
    "dados_3.sort_index()"
   ]
  },
  {
   "cell_type": "markdown",
   "id": "6381589a",
   "metadata": {},
   "source": [
    "**Gerando planilhas**"
   ]
  },
  {
   "cell_type": "code",
   "execution_count": null,
   "id": "23226b7d",
   "metadata": {},
   "outputs": [],
   "source": [
    "# Criando um DataFrame a partir de outro\n",
    "\n",
    "colunas = ['id', 'price', 'bedrooms', 'bathrooms'] # Criando uma lista com os nomes das colunas\n",
    "dados_4 = dados[colunas]                           # Criando um novo DataFrame"
   ]
  },
  {
   "cell_type": "code",
   "execution_count": null,
   "id": "8c4b8ced",
   "metadata": {},
   "outputs": [],
   "source": [
    "# Salvando a planilha em disco\n",
    "\n",
    "dados_4.to_excel('Planilha_Gerada.xls', index = False)"
   ]
  },
  {
   "cell_type": "markdown",
   "id": "bd5d0dfc",
   "metadata": {},
   "source": [
    "**Extraindo Insights**"
   ]
  },
  {
   "cell_type": "code",
   "execution_count": 2,
   "id": "59190356",
   "metadata": {},
   "outputs": [],
   "source": [
    "# Carregando biblioteca\n",
    "\n",
    "import matplotlib"
   ]
  },
  {
   "cell_type": "code",
   "execution_count": null,
   "id": "3ac6ce20",
   "metadata": {},
   "outputs": [],
   "source": [
    "# Plotando um boxplot: detecção de possíveis outliers\n",
    "\n",
    "%matplotlib notebook\n",
    "matplotlib.style.use('ggplot')\n",
    "dados.boxplot(column = 'bedrooms')"
   ]
  },
  {
   "cell_type": "code",
   "execution_count": null,
   "id": "6ad225fc",
   "metadata": {},
   "outputs": [],
   "source": [
    "# Boxplot da coluna price por número de quartos\n",
    "\n",
    "%matplotlib notebook\n",
    "dados.boxplot(column = 'price', by = 'bedrooms')"
   ]
  },
  {
   "cell_type": "code",
   "execution_count": null,
   "id": "2f40983d",
   "metadata": {},
   "outputs": [],
   "source": [
    "# Visualizando os estilos de layout disponíveis\n",
    "\n",
    "matplotlib.style.available"
   ]
  }
 ],
 "metadata": {
  "kernelspec": {
   "display_name": "Python 3 (ipykernel)",
   "language": "python",
   "name": "python3"
  },
  "language_info": {
   "codemirror_mode": {
    "name": "ipython",
    "version": 3
   },
   "file_extension": ".py",
   "mimetype": "text/x-python",
   "name": "python",
   "nbconvert_exporter": "python",
   "pygments_lexer": "ipython3",
   "version": "3.9.7"
  }
 },
 "nbformat": 4,
 "nbformat_minor": 5
}
