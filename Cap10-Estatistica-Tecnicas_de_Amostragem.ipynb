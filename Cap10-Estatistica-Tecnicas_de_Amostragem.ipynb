{
 "cells": [
  {
   "cell_type": "markdown",
   "id": "16f237d4",
   "metadata": {},
   "source": [
    "# Técnicas de Amostragem de Dados"
   ]
  },
  {
   "cell_type": "code",
   "execution_count": null,
   "id": "2511b26e",
   "metadata": {},
   "outputs": [],
   "source": [
    "# Carregando bibliotecas\n",
    "\n",
    "import pandas as pd\n",
    "import numpy as np\n",
    "from sklearn.model_selection import train_test_split"
   ]
  },
  {
   "cell_type": "code",
   "execution_count": null,
   "id": "2b529b5d",
   "metadata": {},
   "outputs": [],
   "source": [
    "# Carregando base de dados\n",
    "\n",
    "dados = pd.read_csv('covid19.csv')"
   ]
  },
  {
   "cell_type": "code",
   "execution_count": null,
   "id": "baffeb3b",
   "metadata": {},
   "outputs": [],
   "source": [
    "# Visualizando dados\n",
    "\n",
    "dados.head()"
   ]
  },
  {
   "cell_type": "code",
   "execution_count": null,
   "id": "1faa9deb",
   "metadata": {},
   "outputs": [],
   "source": [
    "# Informações dos dados\n",
    "\n",
    "dados.info()"
   ]
  },
  {
   "cell_type": "markdown",
   "id": "14b54efc",
   "metadata": {},
   "source": [
    "### Amostragem Aleatória Simples\n",
    "   * Um determinado número de elementos é retirados da população de forma aleatória"
   ]
  },
  {
   "cell_type": "code",
   "execution_count": null,
   "id": "1775ac35",
   "metadata": {},
   "outputs": [],
   "source": [
    "# Criando uma amostra com apenas 1000 registros a partir dos dados\n",
    "\n",
    "x_dados = dados.sample(n = 1000)"
   ]
  },
  {
   "cell_type": "code",
   "execution_count": null,
   "id": "886bfbc3",
   "metadata": {},
   "outputs": [],
   "source": [
    "# Informação do novo conjunto de dados\n",
    "\n",
    "x_dados.shape"
   ]
  },
  {
   "cell_type": "code",
   "execution_count": null,
   "id": "a254b8c0",
   "metadata": {},
   "outputs": [],
   "source": [
    "# Especificando o tamanho da amostra através do percentual\n",
    "\n",
    "xx_dados = dados.sample(frac = 0.10)"
   ]
  },
  {
   "cell_type": "code",
   "execution_count": null,
   "id": "9fefb5e8",
   "metadata": {},
   "outputs": [],
   "source": [
    "xx_dados.shape"
   ]
  },
  {
   "cell_type": "markdown",
   "id": "688c93e8",
   "metadata": {},
   "source": [
    "### Amostragem Aleatória Estratificada"
   ]
  },
  {
   "cell_type": "code",
   "execution_count": null,
   "id": "46787628",
   "metadata": {},
   "outputs": [],
   "source": [
    "# Contando registros de uma coluna\n",
    "\n",
    "dados['province'].value_counts()"
   ]
  },
  {
   "cell_type": "code",
   "execution_count": null,
   "id": "de246671",
   "metadata": {},
   "outputs": [],
   "source": [
    "# Gerando a amostra\n",
    "\n",
    "X_treino, X_teste, y_treino, y_teste = train_test_split(dados.drop('province', axis = 1),\n",
    "                                                        dados['province'],\n",
    "                                                        stratify = dados['province'],\n",
    "                                                        test_size = 0.20)"
   ]
  },
  {
   "cell_type": "code",
   "execution_count": null,
   "id": "612f547f",
   "metadata": {},
   "outputs": [],
   "source": [
    "# Verificando os dados\n",
    "\n",
    "y_teste.shape"
   ]
  },
  {
   "cell_type": "code",
   "execution_count": null,
   "id": "23bcde6d",
   "metadata": {},
   "outputs": [],
   "source": [
    "# Realizando a contagem dos registros\n",
    "\n",
    "y_teste.value_counts()"
   ]
  },
  {
   "cell_type": "markdown",
   "id": "a5974898",
   "metadata": {},
   "source": [
    "### Amostragem Sistémica"
   ]
  },
  {
   "cell_type": "code",
   "execution_count": null,
   "id": "15132d1f",
   "metadata": {},
   "outputs": [],
   "source": [
    "# Gerando uma semente\n",
    "\n",
    "semente = np.random.choice(10, 1)"
   ]
  },
  {
   "cell_type": "code",
   "execution_count": null,
   "id": "fc636c75",
   "metadata": {},
   "outputs": [],
   "source": [
    "# Semente\n",
    "\n",
    "semente"
   ]
  },
  {
   "cell_type": "code",
   "execution_count": null,
   "id": "466d8a6a",
   "metadata": {},
   "outputs": [],
   "source": [
    "# Gerando índices a partir da semente\n",
    "\n",
    "indices = np.arange(0, 100, semente)\n",
    "indices"
   ]
  },
  {
   "cell_type": "code",
   "execution_count": null,
   "id": "3367d7c4",
   "metadata": {},
   "outputs": [],
   "source": [
    "# Gerando uma amostra a partir dos índices\n",
    "\n",
    "amostra = dados.loc[indices, :]"
   ]
  },
  {
   "cell_type": "code",
   "execution_count": null,
   "id": "950bc5f7",
   "metadata": {},
   "outputs": [],
   "source": [
    "# Verificando os dados da amostra\n",
    "\n",
    "amostra"
   ]
  },
  {
   "cell_type": "code",
   "execution_count": null,
   "id": "de8f980c",
   "metadata": {},
   "outputs": [],
   "source": [
    "# Informação dos dados\n",
    "\n",
    "amostra.info()"
   ]
  },
  {
   "cell_type": "code",
   "execution_count": null,
   "id": "8f4ca90b",
   "metadata": {},
   "outputs": [],
   "source": []
  }
 ],
 "metadata": {
  "kernelspec": {
   "display_name": "Python 3 (ipykernel)",
   "language": "python",
   "name": "python3"
  },
  "language_info": {
   "codemirror_mode": {
    "name": "ipython",
    "version": 3
   },
   "file_extension": ".py",
   "mimetype": "text/x-python",
   "name": "python",
   "nbconvert_exporter": "python",
   "pygments_lexer": "ipython3",
   "version": "3.9.7"
  }
 },
 "nbformat": 4,
 "nbformat_minor": 5
}
