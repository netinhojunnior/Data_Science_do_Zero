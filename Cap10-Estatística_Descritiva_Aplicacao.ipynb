{
 "cells": [
  {
   "cell_type": "markdown",
   "id": "390d1b9a",
   "metadata": {},
   "source": [
    "# Comparando as medidas em um cenário real"
   ]
  },
  {
   "cell_type": "markdown",
   "id": "1d454066",
   "metadata": {},
   "source": [
    "## Verificando os valores de avaliação de dois cafés"
   ]
  },
  {
   "cell_type": "markdown",
   "id": "4a4a7255",
   "metadata": {},
   "source": [
    "### Hard Rock Café Gramado vs Hard Rock Café Curitiba"
   ]
  },
  {
   "cell_type": "code",
   "execution_count": null,
   "id": "71baf803",
   "metadata": {},
   "outputs": [],
   "source": []
  },
  {
   "cell_type": "markdown",
   "id": "c00881b0",
   "metadata": {},
   "source": [
    "**Hard Rock Café Gramado**\n",
    "   * Avaliações no TripAdvisor: 3,5\n",
    "   * Índice de Satisfação dos Clientes: 89%"
   ]
  },
  {
   "cell_type": "markdown",
   "id": "f8986812",
   "metadata": {},
   "source": [
    "**Hard Rock Café Curitiba**\n",
    "   * Avaliações no TripAdvisor: 4,5\n",
    "   * Índice de Satisfação dos Clientes: 75%"
   ]
  },
  {
   "cell_type": "markdown",
   "id": "1e8814be",
   "metadata": {},
   "source": [
    "### Objetivo: \n",
    "   * **Verificar qual o estabelecimento com melhor avaliação em diferentes escalas.**"
   ]
  },
  {
   "cell_type": "code",
   "execution_count": null,
   "id": "2e3f2a82",
   "metadata": {},
   "outputs": [],
   "source": [
    "# Carregando bibliotecas\n",
    "\n",
    "import numpy as np\n",
    "from scipy import stats\n",
    "from scipy.stats.mstats import gmean, hmean"
   ]
  },
  {
   "cell_type": "code",
   "execution_count": null,
   "id": "4cb891d2",
   "metadata": {},
   "outputs": [],
   "source": [
    "# Atribuindo avaliações e índices a variáveis\n",
    "\n",
    "aval_gramado = 3.5     # Avaliação do Hard Rock Café Gramado\n",
    "aval_curitiba = 4.5    # Avaliação do Hard Rock Café Curitiba\n",
    "ind_gramado = 89       # Índice de Satisfação do Hard Rock Café Gramado\n",
    "ind_curitiba = 75      # Índice de Satisfação do Hard Rock Café Curitiba"
   ]
  },
  {
   "cell_type": "markdown",
   "id": "a2ffc69f",
   "metadata": {},
   "source": [
    "**1º) Calculando a média aritmética**"
   ]
  },
  {
   "cell_type": "code",
   "execution_count": null,
   "id": "abd79cb4",
   "metadata": {},
   "outputs": [],
   "source": [
    "print('Média do Hard Rock Café Gramado: {}'.format(np.mean([aval_gramado, ind_gramado])))\n",
    "print('Média do Hard Rock Café Curitiba: {}'.format(np.mean([aval_curitiba, ind_curitiba])))"
   ]
  },
  {
   "cell_type": "markdown",
   "id": "72eeb43b",
   "metadata": {},
   "source": [
    "**Resultado:** Considerando a média aritmética, o Hard Rock Café de Gramado é o estabelimento melhor avaliado."
   ]
  },
  {
   "cell_type": "markdown",
   "id": "b8076281",
   "metadata": {},
   "source": [
    "**2º) Calculando a média aritmética realizando uma reescala dos dados de avaliação do TripAdvisor**"
   ]
  },
  {
   "cell_type": "code",
   "execution_count": null,
   "id": "12f2f7da",
   "metadata": {},
   "outputs": [],
   "source": [
    "# Reescalando os dados de avaliação do TripAdvisor\n",
    "\n",
    "reescala_gramado = aval_gramado * 20\n",
    "reescala_curitiba = aval_curitiba * 20"
   ]
  },
  {
   "cell_type": "code",
   "execution_count": null,
   "id": "1bd96ffd",
   "metadata": {},
   "outputs": [],
   "source": [
    "# Calculando a média aritmética com os dados reescalados\n",
    "\n",
    "print('Média do Hard Rock Café Gramado: {}'.format(np.mean([reescala_gramado, ind_gramado])))\n",
    "print('Média do Hard Rock Café Curitiba: {}'.format(np.mean([reescala_curitiba, ind_curitiba])))"
   ]
  },
  {
   "cell_type": "markdown",
   "id": "a1e144a5",
   "metadata": {},
   "source": [
    "**Resultado:** Considerando a reescala dos dados, agora, o Hard Rock Café de Curitiba é o estabelimento com melhor avaliação."
   ]
  },
  {
   "cell_type": "markdown",
   "id": "dafbadc8",
   "metadata": {},
   "source": [
    "**3º) Encontrando o resultado a partir da média geométrica**"
   ]
  },
  {
   "cell_type": "code",
   "execution_count": null,
   "id": "376e724c",
   "metadata": {},
   "outputs": [],
   "source": [
    "print('Média do Hard Rock Café Gramado: {}'.format(gmean([aval_gramado, ind_gramado])))\n",
    "print('Média do Hard Rock Café Curitiba: {}'.format(gmean([aval_curitiba, ind_curitiba])))"
   ]
  },
  {
   "cell_type": "markdown",
   "id": "d05f9b20",
   "metadata": {},
   "source": [
    "**Resultados:** Pela média geométrica, o Hard Rock Café Curitiba tem melhor avaliação."
   ]
  },
  {
   "cell_type": "markdown",
   "id": "4a567bdd",
   "metadata": {},
   "source": [
    "## Considerações\n",
    "   * Com os dados alterados para uma mesma escala, os resultado encontrados foram mais próximos da realidade;\n",
    "   * A média geométrica nos entrega o resultado \"correto\" pois considera do **relacionamento multiiplicativo** entre os dados da amostra;\n",
    "   * A média geométrica, se aplicada a dados em **diferentes escalas**, não apresentará um retorno na mesma unidade da amostra."
   ]
  }
 ],
 "metadata": {
  "kernelspec": {
   "display_name": "Python 3 (ipykernel)",
   "language": "python",
   "name": "python3"
  },
  "language_info": {
   "codemirror_mode": {
    "name": "ipython",
    "version": 3
   },
   "file_extension": ".py",
   "mimetype": "text/x-python",
   "name": "python",
   "nbconvert_exporter": "python",
   "pygments_lexer": "ipython3",
   "version": "3.9.7"
  }
 },
 "nbformat": 4,
 "nbformat_minor": 5
}
