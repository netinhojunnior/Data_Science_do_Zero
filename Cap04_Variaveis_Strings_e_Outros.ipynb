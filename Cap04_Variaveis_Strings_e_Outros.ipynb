{
 "cells": [
  {
   "cell_type": "markdown",
   "id": "526fcb88",
   "metadata": {},
   "source": [
    "# Cap 04 - Dominando o Python"
   ]
  },
  {
   "cell_type": "markdown",
   "id": "b4e0ff1e",
   "metadata": {},
   "source": [
    "### Imprimindo Dados"
   ]
  },
  {
   "cell_type": "code",
   "execution_count": 1,
   "id": "ee050cc3",
   "metadata": {},
   "outputs": [
    {
     "name": "stdout",
     "output_type": "stream",
     "text": [
      "Hello World\n"
     ]
    }
   ],
   "source": [
    "# Print\n",
    "\n",
    "print(\"Hello World\")"
   ]
  },
  {
   "cell_type": "code",
   "execution_count": 2,
   "id": "9f66c973",
   "metadata": {},
   "outputs": [
    {
     "data": {
      "text/plain": [
       "'Hello World'"
      ]
     },
     "execution_count": 2,
     "metadata": {},
     "output_type": "execute_result"
    }
   ],
   "source": [
    "# Sem o print - Diretamente\n",
    "\n",
    "\"Hello World\""
   ]
  },
  {
   "cell_type": "markdown",
   "id": "5a6a672d",
   "metadata": {},
   "source": [
    "### Operações Mateméticas"
   ]
  },
  {
   "cell_type": "code",
   "execution_count": 3,
   "id": "eb247fc6",
   "metadata": {},
   "outputs": [
    {
     "data": {
      "text/plain": [
       "4"
      ]
     },
     "execution_count": 3,
     "metadata": {},
     "output_type": "execute_result"
    }
   ],
   "source": [
    "# Soma\n",
    "\n",
    "2 + 2"
   ]
  },
  {
   "cell_type": "code",
   "execution_count": 4,
   "id": "4dc25c3e",
   "metadata": {},
   "outputs": [
    {
     "data": {
      "text/plain": [
       "0"
      ]
     },
     "execution_count": 4,
     "metadata": {},
     "output_type": "execute_result"
    }
   ],
   "source": [
    "# Subtração\n",
    "\n",
    "2 - 2"
   ]
  },
  {
   "cell_type": "code",
   "execution_count": 5,
   "id": "d24b9edf",
   "metadata": {},
   "outputs": [
    {
     "data": {
      "text/plain": [
       "4"
      ]
     },
     "execution_count": 5,
     "metadata": {},
     "output_type": "execute_result"
    }
   ],
   "source": [
    "# Multiplicação\n",
    "\n",
    "2 * 2"
   ]
  },
  {
   "cell_type": "code",
   "execution_count": 6,
   "id": "24711df3",
   "metadata": {},
   "outputs": [
    {
     "data": {
      "text/plain": [
       "1.0"
      ]
     },
     "execution_count": 6,
     "metadata": {},
     "output_type": "execute_result"
    }
   ],
   "source": [
    "# Divisão\n",
    "\n",
    "2 / 2"
   ]
  },
  {
   "cell_type": "markdown",
   "id": "019cc2ef",
   "metadata": {},
   "source": [
    "### Operações Matemáticas com Números Float"
   ]
  },
  {
   "cell_type": "code",
   "execution_count": 7,
   "id": "a9810ca4",
   "metadata": {},
   "outputs": [
    {
     "data": {
      "text/plain": [
       "9.8"
      ]
     },
     "execution_count": 7,
     "metadata": {},
     "output_type": "execute_result"
    }
   ],
   "source": [
    "# Soma\n",
    "\n",
    "3.2 + 6.6"
   ]
  },
  {
   "cell_type": "code",
   "execution_count": 8,
   "id": "991ab215",
   "metadata": {},
   "outputs": [
    {
     "data": {
      "text/plain": [
       "4.4"
      ]
     },
     "execution_count": 8,
     "metadata": {},
     "output_type": "execute_result"
    }
   ],
   "source": [
    "# Divisão\n",
    "\n",
    "8.8 / 2"
   ]
  },
  {
   "cell_type": "code",
   "execution_count": 9,
   "id": "e42121b3",
   "metadata": {},
   "outputs": [
    {
     "data": {
      "text/plain": [
       "20.4"
      ]
     },
     "execution_count": 9,
     "metadata": {},
     "output_type": "execute_result"
    }
   ],
   "source": [
    "# Multiplicação\n",
    "\n",
    "10.2 * 2"
   ]
  },
  {
   "cell_type": "code",
   "execution_count": 10,
   "id": "b7f70648",
   "metadata": {},
   "outputs": [
    {
     "data": {
      "text/plain": [
       "2.8"
      ]
     },
     "execution_count": 10,
     "metadata": {},
     "output_type": "execute_result"
    }
   ],
   "source": [
    "# Subtração\n",
    "\n",
    "5.5 - 2.7"
   ]
  },
  {
   "cell_type": "markdown",
   "id": "fe6ae2a0",
   "metadata": {},
   "source": [
    "### Verificando Tipos de Dados - Função type()"
   ]
  },
  {
   "cell_type": "code",
   "execution_count": 11,
   "id": "a5bbb4b0",
   "metadata": {},
   "outputs": [
    {
     "data": {
      "text/plain": [
       "int"
      ]
     },
     "execution_count": 11,
     "metadata": {},
     "output_type": "execute_result"
    }
   ],
   "source": [
    "type(5)"
   ]
  },
  {
   "cell_type": "code",
   "execution_count": 12,
   "id": "24227ead",
   "metadata": {},
   "outputs": [
    {
     "data": {
      "text/plain": [
       "float"
      ]
     },
     "execution_count": 12,
     "metadata": {},
     "output_type": "execute_result"
    }
   ],
   "source": [
    "type(9.5)"
   ]
  },
  {
   "cell_type": "code",
   "execution_count": 13,
   "id": "15f56ef1",
   "metadata": {},
   "outputs": [
    {
     "data": {
      "text/plain": [
       "str"
      ]
     },
     "execution_count": 13,
     "metadata": {},
     "output_type": "execute_result"
    }
   ],
   "source": [
    "type(\"Rivaldo Jr\")"
   ]
  },
  {
   "cell_type": "markdown",
   "id": "b65a8f1a",
   "metadata": {},
   "source": [
    "### Conversão de Dados"
   ]
  },
  {
   "cell_type": "code",
   "execution_count": 14,
   "id": "dd24bb43",
   "metadata": {},
   "outputs": [
    {
     "data": {
      "text/plain": [
       "6"
      ]
     },
     "execution_count": 14,
     "metadata": {},
     "output_type": "execute_result"
    }
   ],
   "source": [
    "# Convertendo dados para o tipo inteiro\n",
    "\n",
    "int(6.5)"
   ]
  },
  {
   "cell_type": "code",
   "execution_count": 15,
   "id": "395c5ba2",
   "metadata": {},
   "outputs": [
    {
     "data": {
      "text/plain": [
       "7.0"
      ]
     },
     "execution_count": 15,
     "metadata": {},
     "output_type": "execute_result"
    }
   ],
   "source": [
    "# Convertendo dados para o tipo float\n",
    "\n",
    "float(7)"
   ]
  },
  {
   "cell_type": "code",
   "execution_count": 16,
   "id": "a353bbe8",
   "metadata": {},
   "outputs": [
    {
     "data": {
      "text/plain": [
       "'5'"
      ]
     },
     "execution_count": 16,
     "metadata": {},
     "output_type": "execute_result"
    }
   ],
   "source": [
    "# Convertendo dados para o tipo string\n",
    "\n",
    "str(5)"
   ]
  },
  {
   "cell_type": "markdown",
   "id": "0f1491d8",
   "metadata": {},
   "source": [
    "### Arredondando Valores"
   ]
  },
  {
   "cell_type": "code",
   "execution_count": 17,
   "id": "f6f1cff6",
   "metadata": {},
   "outputs": [
    {
     "data": {
      "text/plain": [
       "3"
      ]
     },
     "execution_count": 17,
     "metadata": {},
     "output_type": "execute_result"
    }
   ],
   "source": [
    "# Função round()\n",
    "\n",
    "round(2.898)"
   ]
  },
  {
   "cell_type": "markdown",
   "id": "e154efe9",
   "metadata": {},
   "source": [
    "### Variáveis"
   ]
  },
  {
   "cell_type": "code",
   "execution_count": 18,
   "id": "9e0291d6",
   "metadata": {},
   "outputs": [],
   "source": [
    "# Criando variáveis\n",
    "\n",
    "var1 = 1\n",
    "var2 = 2\n",
    "var3 = 3"
   ]
  },
  {
   "cell_type": "code",
   "execution_count": 19,
   "id": "140f9f1e",
   "metadata": {},
   "outputs": [
    {
     "data": {
      "text/plain": [
       "1"
      ]
     },
     "execution_count": 19,
     "metadata": {},
     "output_type": "execute_result"
    }
   ],
   "source": [
    "# Imprimindo variável\n",
    "\n",
    "var1"
   ]
  },
  {
   "cell_type": "code",
   "execution_count": 20,
   "id": "b601262d",
   "metadata": {},
   "outputs": [
    {
     "data": {
      "text/plain": [
       "int"
      ]
     },
     "execution_count": 20,
     "metadata": {},
     "output_type": "execute_result"
    }
   ],
   "source": [
    "# Verificando tipo da variável\n",
    "\n",
    "type(var1)"
   ]
  },
  {
   "cell_type": "code",
   "execution_count": 21,
   "id": "6234e98a",
   "metadata": {},
   "outputs": [
    {
     "data": {
      "text/plain": [
       "3"
      ]
     },
     "execution_count": 21,
     "metadata": {},
     "output_type": "execute_result"
    }
   ],
   "source": [
    "# Realizando operação matemática com variáveis\n",
    "\n",
    "var1 + var2"
   ]
  },
  {
   "cell_type": "code",
   "execution_count": 22,
   "id": "7f8a1873",
   "metadata": {},
   "outputs": [],
   "source": [
    "# Reatribuindo um novo valor a variáveis\n",
    "\n",
    "var1 = \"Elefante\"\n",
    "var2 = 6.78"
   ]
  },
  {
   "cell_type": "code",
   "execution_count": 23,
   "id": "aac61169",
   "metadata": {},
   "outputs": [
    {
     "name": "stdout",
     "output_type": "stream",
     "text": [
      "<class 'str'>\n",
      "<class 'float'>\n"
     ]
    }
   ],
   "source": [
    "# Verificando tipos das variáveis\n",
    "\n",
    "print(type(var1))\n",
    "print(type(var2))"
   ]
  },
  {
   "cell_type": "code",
   "execution_count": 24,
   "id": "f7a2067d",
   "metadata": {},
   "outputs": [],
   "source": [
    "# Declarando valores a variáveis\n",
    "\n",
    "x, y = 1, 2"
   ]
  },
  {
   "cell_type": "code",
   "execution_count": 25,
   "id": "43d5aa40",
   "metadata": {},
   "outputs": [
    {
     "name": "stdout",
     "output_type": "stream",
     "text": [
      "1\n",
      "2\n"
     ]
    }
   ],
   "source": [
    "# Imprimindo valores\n",
    "\n",
    "print(x)\n",
    "print(y)"
   ]
  },
  {
   "cell_type": "markdown",
   "id": "e1b36111",
   "metadata": {},
   "source": [
    "### Strings"
   ]
  },
  {
   "cell_type": "code",
   "execution_count": 26,
   "id": "0382c7e9",
   "metadata": {},
   "outputs": [],
   "source": [
    "# Criando variável tipo string\n",
    "\n",
    "frase = \"Era uma vez\""
   ]
  },
  {
   "cell_type": "code",
   "execution_count": 27,
   "id": "3ded28b3",
   "metadata": {},
   "outputs": [
    {
     "data": {
      "text/plain": [
       "'Era uma vez'"
      ]
     },
     "execution_count": 27,
     "metadata": {},
     "output_type": "execute_result"
    }
   ],
   "source": [
    "# Imprimindo frase\n",
    "\n",
    "frase"
   ]
  },
  {
   "cell_type": "code",
   "execution_count": 28,
   "id": "e4a6ff63",
   "metadata": {},
   "outputs": [
    {
     "name": "stdout",
     "output_type": "stream",
     "text": [
      "E\n",
      "r\n",
      "a\n"
     ]
    }
   ],
   "source": [
    "# Indexando Strings - O ÍNDICE COMEÇA COM O NÚMERO 0\n",
    "\n",
    "print(frase[0]) # Retorna a primeira letra da frase\n",
    "print(frase[1]) # Retorna a segunda letra da frase\n",
    "print(frase[2]) # Retorna a terceira letra da frase"
   ]
  },
  {
   "cell_type": "code",
   "execution_count": 29,
   "id": "03100a79",
   "metadata": {},
   "outputs": [
    {
     "data": {
      "text/plain": [
       "'Era uma'"
      ]
     },
     "execution_count": 29,
     "metadata": {},
     "output_type": "execute_result"
    }
   ],
   "source": [
    "# Slicing - Percorrendo Strings\n",
    "\n",
    "frase[0:7] # Retorna do 1° ao 6° elemento da string"
   ]
  },
  {
   "cell_type": "code",
   "execution_count": 30,
   "id": "ccd18b46",
   "metadata": {},
   "outputs": [
    {
     "data": {
      "text/plain": [
       "'Era uma vez'"
      ]
     },
     "execution_count": 30,
     "metadata": {},
     "output_type": "execute_result"
    }
   ],
   "source": [
    "frase[0:] # Retorna todos os elementos da string"
   ]
  },
  {
   "cell_type": "code",
   "execution_count": 31,
   "id": "222bd1a0",
   "metadata": {},
   "outputs": [
    {
     "data": {
      "text/plain": [
       "'Era uma'"
      ]
     },
     "execution_count": 31,
     "metadata": {},
     "output_type": "execute_result"
    }
   ],
   "source": [
    "frase[:7] # Retorna do 1º ao 6º elemento da string"
   ]
  },
  {
   "cell_type": "code",
   "execution_count": 32,
   "id": "c5065feb",
   "metadata": {},
   "outputs": [
    {
     "name": "stdout",
     "output_type": "stream",
     "text": [
      "Rivaldo Correia Santos Junior\n"
     ]
    }
   ],
   "source": [
    "# Concatenando String\n",
    "\n",
    "frase1 = \"Rivaldo Correia\" # Criando a primeira variável string\n",
    "frase2 = \" Santos Junior\"  # Criando a segunda variável string\n",
    "frase3 = frase1 + frase2   # Concatenando as 2 variáveis e atribuindo seu valor a outra variável\n",
    "\n",
    "print(frase3) # Imprimindo resultado"
   ]
  },
  {
   "cell_type": "code",
   "execution_count": 33,
   "id": "1aa4ce7b",
   "metadata": {},
   "outputs": [
    {
     "data": {
      "text/plain": [
       "1"
      ]
     },
     "execution_count": 33,
     "metadata": {},
     "output_type": "execute_result"
    }
   ],
   "source": [
    "# Realizando contagem de elementos em uma frase\n",
    "\n",
    "frase.count(\"Era\")"
   ]
  },
  {
   "cell_type": "code",
   "execution_count": 34,
   "id": "01ba5d02",
   "metadata": {},
   "outputs": [
    {
     "data": {
      "text/plain": [
       "2"
      ]
     },
     "execution_count": 34,
     "metadata": {},
     "output_type": "execute_result"
    }
   ],
   "source": [
    "frase.count('a')"
   ]
  },
  {
   "cell_type": "code",
   "execution_count": 35,
   "id": "a2139abb",
   "metadata": {},
   "outputs": [
    {
     "data": {
      "text/plain": [
       "'era uma vez'"
      ]
     },
     "execution_count": 35,
     "metadata": {},
     "output_type": "execute_result"
    }
   ],
   "source": [
    "# Convertendo todas as letras da frase para minúscula\n",
    "\n",
    "frase.lower()"
   ]
  },
  {
   "cell_type": "code",
   "execution_count": 36,
   "id": "ae5430a5",
   "metadata": {},
   "outputs": [
    {
     "data": {
      "text/plain": [
       "'ERA UMA VEZ'"
      ]
     },
     "execution_count": 36,
     "metadata": {},
     "output_type": "execute_result"
    }
   ],
   "source": [
    "# Convertendo todas as letras da frase para maiúscula\n",
    "\n",
    "frase.upper()"
   ]
  },
  {
   "cell_type": "code",
   "execution_count": 37,
   "id": "700ced13",
   "metadata": {},
   "outputs": [
    {
     "data": {
      "text/plain": [
       "'Era uma vez'"
      ]
     },
     "execution_count": 37,
     "metadata": {},
     "output_type": "execute_result"
    }
   ],
   "source": [
    "# Função capitalize() - converte o primeiro caractere da string em uma letra maiúscula\n",
    "\n",
    "frase.capitalize()"
   ]
  },
  {
   "cell_type": "code",
   "execution_count": 38,
   "id": "3785e416",
   "metadata": {},
   "outputs": [
    {
     "data": {
      "text/plain": [
       "False"
      ]
     },
     "execution_count": 38,
     "metadata": {},
     "output_type": "execute_result"
    }
   ],
   "source": [
    "# Função islower() - Verifica se todos os caracteres do texto estão em minúscula\n",
    "\n",
    "frase.islower()"
   ]
  },
  {
   "cell_type": "code",
   "execution_count": 39,
   "id": "0a5a3db0",
   "metadata": {},
   "outputs": [
    {
     "data": {
      "text/plain": [
       "['Era', 'uma', 'vez']"
      ]
     },
     "execution_count": 39,
     "metadata": {},
     "output_type": "execute_result"
    }
   ],
   "source": [
    "# Quebrando string em uma lista de termos\n",
    "\n",
    "frase.split()"
   ]
  }
 ],
 "metadata": {
  "kernelspec": {
   "display_name": "Python 3",
   "language": "python",
   "name": "python3"
  },
  "language_info": {
   "codemirror_mode": {
    "name": "ipython",
    "version": 3
   },
   "file_extension": ".py",
   "mimetype": "text/x-python",
   "name": "python",
   "nbconvert_exporter": "python",
   "pygments_lexer": "ipython3",
   "version": "3.8.8"
  }
 },
 "nbformat": 4,
 "nbformat_minor": 5
}
