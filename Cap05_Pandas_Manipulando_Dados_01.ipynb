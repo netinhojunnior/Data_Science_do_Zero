{
 "cells": [
  {
   "cell_type": "markdown",
   "id": "b7ad6c38",
   "metadata": {},
   "source": [
    "# Manipulando Conjunto de Dados"
   ]
  },
  {
   "cell_type": "code",
   "execution_count": 1,
   "id": "4f65cbf5",
   "metadata": {},
   "outputs": [],
   "source": [
    "# Carregando biblioteca\n",
    "\n",
    "import pandas as pd"
   ]
  },
  {
   "cell_type": "markdown",
   "id": "419ae034",
   "metadata": {},
   "source": [
    "**Carregando conjunto de dados**"
   ]
  },
  {
   "cell_type": "code",
   "execution_count": null,
   "id": "5a187ff6",
   "metadata": {},
   "outputs": [],
   "source": [
    "# Exemplo 1\n",
    "\n",
    "arquivo = 'kc_house_data.csv'\n",
    "dataset = pd.read_csv(arquivo, sep=',' ,header=0)"
   ]
  },
  {
   "cell_type": "code",
   "execution_count": null,
   "id": "ef18dbd1",
   "metadata": {},
   "outputs": [],
   "source": [
    "# Exemplo 2\n",
    "\n",
    "dataset_2 = pd.read_csv('kc_house_data.csv', sep = ',', header = 0)"
   ]
  },
  {
   "cell_type": "code",
   "execution_count": null,
   "id": "a855507b",
   "metadata": {},
   "outputs": [],
   "source": [
    "# Exemplo 3: definindo as colunas do dataset a ser carregada\n",
    "\n",
    "\n",
    "dataset_3 = pd.read_csv(arquivo, sep=',', usecols=['id','date','price','bedrooms'])"
   ]
  },
  {
   "cell_type": "code",
   "execution_count": null,
   "id": "e770e64e",
   "metadata": {},
   "outputs": [],
   "source": [
    "# Exemplo 4: definindo as colunas do dataset a ser carregada de acordo com sua posição\n",
    "\n",
    "dataset_4 = pd.read_csv(\"kc_house_data.csv\", usecols=[0,1,2,3,4,5])"
   ]
  },
  {
   "cell_type": "code",
   "execution_count": null,
   "id": "4a587f81",
   "metadata": {},
   "outputs": [],
   "source": [
    "# Exemplo 5: definindo o número de linhas a ser carregada\n",
    "\n",
    "dataset_5 = pd.read_csv('kc_house_data.csv', sep=',', nrows=5)"
   ]
  },
  {
   "cell_type": "code",
   "execution_count": null,
   "id": "392c9cab",
   "metadata": {},
   "outputs": [],
   "source": [
    "# Exemplo 6: definindo colunas a não serem carregadas\n",
    "\n",
    "dataset_6 = pd.read_csv(\"kc_house_data.csv\", usecols = lambda column : column not in ['sqft_living','sqft_lot','floors'])"
   ]
  },
  {
   "cell_type": "code",
   "execution_count": null,
   "id": "429e4f7e",
   "metadata": {},
   "outputs": [],
   "source": [
    "# Exemplo 7: carregando um arquivo a partir de um link\n",
    "\n",
    "dataset_7 = pd.read_csv(\"https://raw.githubusercontent.com/datasciencedojo/datasets/master/titanic.csv\")"
   ]
  },
  {
   "cell_type": "code",
   "execution_count": null,
   "id": "6447bbc6",
   "metadata": {},
   "outputs": [],
   "source": [
    "# Exemplo 8: dividindo o conjunto de dados em parte com total de linhas definidas\n",
    "\n",
    "dataset_8 = pd.read_csv(\"kc_house_data.csv\", chunksize=10000)"
   ]
  },
  {
   "cell_type": "markdown",
   "id": "5924bc58",
   "metadata": {},
   "source": [
    "**Algumas funções**"
   ]
  },
  {
   "cell_type": "code",
   "execution_count": null,
   "id": "10b6a3ea",
   "metadata": {},
   "outputs": [],
   "source": [
    "# Verificando o tamanho das partes do arquivo do exemplo 8.\n",
    "\n",
    "for parte in dataset_8:\n",
    "    print(len(parte))"
   ]
  },
  {
   "cell_type": "code",
   "execution_count": null,
   "id": "892dca9f",
   "metadata": {},
   "outputs": [],
   "source": [
    "# Exibindo conjunto de dados\n",
    "\n",
    "dataset.head()              # Irá exibir as 5 primeiras linhas do conjunto de dados"
   ]
  },
  {
   "cell_type": "code",
   "execution_count": null,
   "id": "7022e4bf",
   "metadata": {},
   "outputs": [],
   "source": [
    "# Exibindo conjunto de dados\n",
    "\n",
    "dataset.tail()              # Irá exibir as últimas 5 linhas do conjunto de dados"
   ]
  },
  {
   "cell_type": "code",
   "execution_count": null,
   "id": "3a805668",
   "metadata": {},
   "outputs": [],
   "source": [
    "# Definindo total de linhas a serem exibidas\n",
    "\n",
    "dados.head(10)              # Irá exibir as 10 primeiras linhas do conjunto de dados"
   ]
  },
  {
   "cell_type": "code",
   "execution_count": null,
   "id": "bb48a3f8",
   "metadata": {},
   "outputs": [],
   "source": [
    "# Definindo total de linhas a serem exibidas\n",
    "\n",
    "dados.tail(10)              # Irá exibir as 10 últimas linhas do conjunto de dados"
   ]
  },
  {
   "cell_type": "code",
   "execution_count": null,
   "id": "9b060c93",
   "metadata": {},
   "outputs": [],
   "source": [
    "# Verificando o tipo do conjunto de dados\n",
    "\n",
    "type(dataset)"
   ]
  },
  {
   "cell_type": "code",
   "execution_count": null,
   "id": "f181f590",
   "metadata": {},
   "outputs": [],
   "source": [
    "# Verificando o nome das colunas de um conjunto de dados\n",
    "\n",
    "dataset.columns"
   ]
  },
  {
   "cell_type": "code",
   "execution_count": null,
   "id": "66c9fa86",
   "metadata": {},
   "outputs": [],
   "source": [
    "# Verificando o quantidade de linhas de todas as colunas\n",
    "\n",
    "dataset.count()"
   ]
  },
  {
   "cell_type": "code",
   "execution_count": null,
   "id": "20e28e59",
   "metadata": {},
   "outputs": [],
   "source": [
    "# Verificando o total de linhas e colunas de um dataset\n",
    "\n",
    "dataset.shape()"
   ]
  },
  {
   "cell_type": "code",
   "execution_count": null,
   "id": "e4c537d5",
   "metadata": {},
   "outputs": [],
   "source": [
    "# Descrição de um dataset\n",
    "\n",
    "dataset.describe()"
   ]
  },
  {
   "cell_type": "code",
   "execution_count": null,
   "id": "e87245b9",
   "metadata": {},
   "outputs": [],
   "source": [
    "# Informações de um dataset\n",
    "\n",
    "dataset.info()"
   ]
  },
  {
   "cell_type": "code",
   "execution_count": null,
   "id": "38052df6",
   "metadata": {},
   "outputs": [],
   "source": [
    "# Amostra aleatória de dados de um dataset\n",
    "\n",
    "dados.sample(5)    # Irá selecionar 5 dados aleatórios entre todo o conjunto de dados"
   ]
  },
  {
   "cell_type": "code",
   "execution_count": null,
   "id": "8e95c299",
   "metadata": {},
   "outputs": [],
   "source": [
    "# Realizando a contagem de valores únicos\n",
    "\n",
    "pd.value_counts(dataset['bedrooms'])"
   ]
  },
  {
   "cell_type": "code",
   "execution_count": null,
   "id": "0e63e8a7",
   "metadata": {},
   "outputs": [],
   "source": [
    "# Localizando informações em um dataset\n",
    "\n",
    "dataset.loc[dataset['bedrooms'] == 3]  # Consultando imóveis com 3 quartos"
   ]
  },
  {
   "cell_type": "code",
   "execution_count": null,
   "id": "14096a90",
   "metadata": {},
   "outputs": [],
   "source": [
    "# Localizando informações em um dataset: loc() e &\n",
    "\n",
    "dataset.loc[(dataset['bedrooms'] == 3]) & (dataset['bathrooms'] > 2)]"
   ]
  },
  {
   "cell_type": "code",
   "execution_count": null,
   "id": "a700f865",
   "metadata": {},
   "outputs": [],
   "source": [
    "# Ordenando conjunto de dados\n",
    "\n",
    "dataset.sort_values(by = 'price', ascending = False) # Ordena os dados pela coluna price de forma decrescente"
   ]
  },
  {
   "cell_type": "code",
   "execution_count": null,
   "id": "630bdde5",
   "metadata": {},
   "outputs": [],
   "source": [
    "# Ordenando conjunto de dados\n",
    "\n",
    "dataset.sort_values(by = 'price', ascending = True) # Ordena os dados pela coluna price de forma crescente"
   ]
  },
  {
   "cell_type": "code",
   "execution_count": null,
   "id": "65cceda2",
   "metadata": {},
   "outputs": [],
   "source": [
    "# Realizando a contagem de linhas de uma consulta especifica\n",
    "\n",
    "dataset[dataset['bedrooms'] == 4].count()"
   ]
  },
  {
   "cell_type": "markdown",
   "id": "13f334f7",
   "metadata": {},
   "source": [
    "**Trabalhando com colunas e linhas**"
   ]
  },
  {
   "cell_type": "code",
   "execution_count": null,
   "id": "e78ad3d6",
   "metadata": {},
   "outputs": [],
   "source": [
    "# Adicionando uma coluna a um dataset\n",
    "\n",
    "dataset['size'] = (dataset['bedrooms'] * 20) # Cria a coluna size e atribui a ela o valor da coluna bedrooms * 20"
   ]
  },
  {
   "cell_type": "code",
   "execution_count": null,
   "id": "865591af",
   "metadata": {},
   "outputs": [],
   "source": [
    "# Visualizando o conteúdo de uma coluna\n",
    "\n",
    "dataset['size'].head()                 # Irá exibir os 5 primeiros registros da coluna\n",
    "dataset['size'].tail()                 # Irá exibir os 5 últimos registros da coluna"
   ]
  },
  {
   "cell_type": "code",
   "execution_count": null,
   "id": "6d82da48",
   "metadata": {},
   "outputs": [],
   "source": [
    "# Excluindo uma coluna do conjunto de dados\n",
    "\n",
    "# axis = 1: usado quando queremos excluir a coluna e não a linha\n",
    "# inplace = True: define que a alteração será realiza em memória\n",
    "\n",
    "dataset.drop(['size'], axis = 1, inplace = True)"
   ]
  },
  {
   "cell_type": "code",
   "execution_count": null,
   "id": "2e7a1682",
   "metadata": {},
   "outputs": [],
   "source": [
    "# Excluindo linhas a partir de uma condição lógica\n",
    "\n",
    "dataset.drop(dataset[dataset.bedrooms == 0].index, inplace = True) # Irá excluir as linhas com bedrooms = 0"
   ]
  },
  {
   "cell_type": "code",
   "execution_count": null,
   "id": "d55d2821",
   "metadata": {},
   "outputs": [],
   "source": [
    "# Excluindo linhas a partir de uma condição lógica\n",
    "\n",
    "dataset.drop(dataset[dataset.bedroom > 30].index, inplace = True) # Irá excluir as linhas com bedrooms > 30"
   ]
  },
  {
   "cell_type": "markdown",
   "id": "73d569e5",
   "metadata": {},
   "source": [
    "**Missing Values**"
   ]
  },
  {
   "cell_type": "code",
   "execution_count": null,
   "id": "cea377bb",
   "metadata": {},
   "outputs": [],
   "source": [
    "# Consultando linhas com valores faltantes\n",
    "\n",
    "dataset.isnull().sum() # Retorna as linhas e o total de valores faltantes em cada uma delas"
   ]
  },
  {
   "cell_type": "code",
   "execution_count": null,
   "id": "33efcb5d",
   "metadata": {},
   "outputs": [],
   "source": [
    "# Removendo todas as linhas com ao menos um valor faltante\n",
    "\n",
    "dataset.dropna(inplace = True)"
   ]
  },
  {
   "cell_type": "code",
   "execution_count": null,
   "id": "1cfb6707",
   "metadata": {},
   "outputs": [],
   "source": [
    "# Removendo todas as linha que tenham valores faltantes em todas as colunas\n",
    "\n",
    "dataset.dropna(how = 'all', inplace = True)"
   ]
  },
  {
   "cell_type": "code",
   "execution_count": null,
   "id": "9182a997",
   "metadata": {},
   "outputs": [],
   "source": [
    "# Preenchendo valores faltantes com a média das colunas\n",
    "\n",
    "dataset['floors'].fillna(dataset['floors'].mean(), inplace = True)"
   ]
  },
  {
   "cell_type": "code",
   "execution_count": null,
   "id": "9b7ef25f",
   "metadata": {},
   "outputs": [],
   "source": [
    "# Preenchendo valores faltantes\n",
    "\n",
    "dataset['bedrooms'].fillna(1, inplace = True) # Preenchendo todos os valores faltantes de coluna bedrooms com 1"
   ]
  },
  {
   "cell_type": "markdown",
   "id": "dba382d8",
   "metadata": {},
   "source": [
    "**Adicionando uma nova coluna ao dataset**"
   ]
  },
  {
   "cell_type": "code",
   "execution_count": null,
   "id": "324250e6",
   "metadata": {},
   "outputs": [],
   "source": [
    "# Aplicando no dataset_8\n",
    "\n",
    "lista = []                                  # Criando uma lista vazia\n",
    "\n",
    "for parte in dataset_8:                     # Loop for percorrendo a coluna bedrooms, multiplicando seu valor por 2\n",
    "    lista.append(parte['bedrooms'] * 2)     # e adicionando o resultado na lista criada\n",
    "\n",
    "dataset_8['bedrooms_size'] = pd.concat(lista) # Criando uma nova coluna e adicionando os valores da lista"
   ]
  },
  {
   "cell_type": "markdown",
   "id": "a6067b4f",
   "metadata": {},
   "source": [
    "**Convertendo tipos de dados**"
   ]
  },
  {
   "cell_type": "code",
   "execution_count": null,
   "id": "757f4f2a",
   "metadata": {},
   "outputs": [],
   "source": [
    "# Aplicando no dataset_7\n",
    "\n",
    "dataset_7.Sex = dataset_7.Sex.astype('category')              # Conventendo para o tipo categorico\n",
    "dataset_t.Embarked = dataset_7.Embarked.astype('category')    # Conventendo para o tipo categorico\n",
    "dataset_7.Survived = dataset_7.Survived.astype('category')    # Conventendo para o tipo categorico\n",
    "dataset_7.Pclass = dataset_7.Pclass.astype('category')        # Conventendo para o tipo categorico\n",
    "dataset_7.PassengerId = dataset_7.PassengerId.astype('int32') # Conventendo para o tipo inteiro\n",
    "dataset_7.Parch = dataset_7.Parch.astype('int32')             # Conventendo para o tipo inteiro\n",
    "dataset_t.SibSp = dataset_7.SibSp.astype('int32')             # Conventendo para o tipo inteiro"
   ]
  },
  {
   "cell_type": "code",
   "execution_count": null,
   "id": "b2ef4a24",
   "metadata": {},
   "outputs": [],
   "source": [
    "# Convertendo colunas no momento do carregamento dos dados\n",
    "\n",
    "data = \"https://raw.githubusercontent.com/datasciencedojo/datasets/master/titanic.csv\"\n",
    "dados = pd.read_csv(data,  dtype = {\"Embarked\" : \"category\", \"Survived\": \"category\", \"Parch\": \"int32\"})"
   ]
  },
  {
   "cell_type": "markdown",
   "id": "f9eeb4cc",
   "metadata": {},
   "source": [
    "**Percorrendo linhas de um DataFrame**"
   ]
  },
  {
   "cell_type": "code",
   "execution_count": null,
   "id": "680fd69d",
   "metadata": {},
   "outputs": [],
   "source": [
    "# O método iterrows() permite percorrer por todas as linhas de um dataframe\n",
    "# Esse método retorna um objeto iterator que contém o indice de cada linha\n",
    "\n",
    "# Percorrendo linhas\n",
    "\n",
    "for indice, linha in dataset.head(10).iterrows():\n",
    "    print(indice, linha)"
   ]
  },
  {
   "cell_type": "code",
   "execution_count": null,
   "id": "b2010540",
   "metadata": {},
   "outputs": [],
   "source": [
    "# Percorrendo linhas acessando algumas colunas\n",
    "\n",
    "for indice, linha in dataset.head(10).iterrows():\n",
    "    print(indice, linha['bedrooms'], linha['price'])"
   ]
  },
  {
   "cell_type": "code",
   "execution_count": null,
   "id": "9a8443c2",
   "metadata": {},
   "outputs": [],
   "source": [
    "# Imprimindo a 1ª linha do objeto iterator\n",
    "\n",
    "next(dataset.iterrows())"
   ]
  },
  {
   "cell_type": "markdown",
   "id": "8a86b60d",
   "metadata": {},
   "source": [
    "**Percorrendo DataFrame**"
   ]
  },
  {
   "cell_type": "code",
   "execution_count": null,
   "id": "c04c225a",
   "metadata": {},
   "outputs": [],
   "source": [
    "# O método itertuples() retorna as linhas e índices em forma de tuplas\n",
    "# Costuma ser mais rápido que o iterrows()\n",
    "\n",
    "# Percorrendo DataFrame\n",
    "\n",
    "for linha in dataset.head().itertuples():\n",
    "    print(linha)"
   ]
  },
  {
   "cell_type": "code",
   "execution_count": null,
   "id": "9cddbf2c",
   "metadata": {},
   "outputs": [],
   "source": [
    "# Percorrendo o DataFrame acessando algumas colunas\n",
    "\n",
    "for linha in dataset.head().itertuples():\n",
    "    print(linha.id, linha.bedrooms, linha.price)"
   ]
  }
 ],
 "metadata": {
  "kernelspec": {
   "display_name": "Python 3 (ipykernel)",
   "language": "python",
   "name": "python3"
  },
  "language_info": {
   "codemirror_mode": {
    "name": "ipython",
    "version": 3
   },
   "file_extension": ".py",
   "mimetype": "text/x-python",
   "name": "python",
   "nbconvert_exporter": "python",
   "pygments_lexer": "ipython3",
   "version": "3.9.7"
  }
 },
 "nbformat": 4,
 "nbformat_minor": 5
}
