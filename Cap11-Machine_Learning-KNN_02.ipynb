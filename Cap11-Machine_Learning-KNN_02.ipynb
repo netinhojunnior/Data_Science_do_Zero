{
 "cells": [
  {
   "cell_type": "markdown",
   "id": "5771b6fc",
   "metadata": {},
   "source": [
    "# Machine Learning"
   ]
  },
  {
   "cell_type": "markdown",
   "id": "dbed58f8",
   "metadata": {},
   "source": [
    "## KNN - K-Nearest Neighbors"
   ]
  },
  {
   "cell_type": "markdown",
   "id": "eb3ca4f4",
   "metadata": {},
   "source": [
    "* **Trabalhando com a base de dados de dígitos**"
   ]
  },
  {
   "cell_type": "code",
   "execution_count": null,
   "id": "c642539e",
   "metadata": {},
   "outputs": [],
   "source": [
    "# Carregando bibliotecas\n",
    "\n",
    "import pandas as pd\n",
    "import numpy as np\n",
    "import matplotlib.pyplot as plt\n",
    "import seaborn as sns\n",
    "from sklearn import datasets, svm, metrics\n",
    "from sklearn.model_selection import train_test_split, cross_val_score, GridSearchCV\n",
    "from sklearn.neighbors import KNeighborsClassifier\n",
    "from sklearn import metrics"
   ]
  },
  {
   "cell_type": "code",
   "execution_count": null,
   "id": "94963231",
   "metadata": {},
   "outputs": [],
   "source": [
    "# Carregando base de dados\n",
    "\n",
    "dados = datasets.load_digits()"
   ]
  },
  {
   "cell_type": "code",
   "execution_count": null,
   "id": "7d9b7ee7",
   "metadata": {},
   "outputs": [],
   "source": [
    "# Visualizando os valores das classes\n",
    "\n",
    "dados.target_names"
   ]
  },
  {
   "cell_type": "code",
   "execution_count": null,
   "id": "d2d2ac08",
   "metadata": {},
   "outputs": [],
   "source": [
    "# Visualizando as imagens e suas respectivas classes\n",
    "\n",
    "ImagLabels = list(zip(dados.images, dados.target))\n",
    "\n",
    "for index, (image, labels) in enumerate(ImagLabels[:10]):\n",
    "    plt.subplot(3, 4, index + 1)\n",
    "    plt.axis('off')\n",
    "    plt.imshow(image, cmap = plt.cm.gray_r, interpolation = 'nearest')\n",
    "    plt.title('Training: %i' % labels)"
   ]
  },
  {
   "cell_type": "markdown",
   "id": "b00b72e6",
   "metadata": {},
   "source": [
    "**Convertendo os dados em DataFrame**"
   ]
  },
  {
   "cell_type": "code",
   "execution_count": null,
   "id": "221910b1",
   "metadata": {},
   "outputs": [],
   "source": [
    "amostra = len(dados.images)\n",
    "data = dados.images.reshape((amostra, -1))\n",
    "classe = dados.target"
   ]
  },
  {
   "cell_type": "code",
   "execution_count": null,
   "id": "ad5a5b9c",
   "metadata": {},
   "outputs": [],
   "source": [
    "dados_2 = pd.DataFrame(data)\n",
    "dados_2['classe'] = classe"
   ]
  },
  {
   "cell_type": "code",
   "execution_count": null,
   "id": "a8e91748",
   "metadata": {},
   "outputs": [],
   "source": [
    "# Resultado\n",
    "\n",
    "dados_2.head(3)"
   ]
  },
  {
   "cell_type": "markdown",
   "id": "da8415d8",
   "metadata": {},
   "source": [
    "**Dividindo os dados em treino e teste**"
   ]
  },
  {
   "cell_type": "code",
   "execution_count": null,
   "id": "4e4ee9eb",
   "metadata": {},
   "outputs": [],
   "source": [
    "# Dividindo os dados: 70% para treino, 30% para teste\n",
    "\n",
    "X_treino, X_teste, y_treino, y_teste = train_test_split(dados_2.drop('classe', axis = 1), dados_2['classe'], \n",
    "                                                                     test_size = 0.3)"
   ]
  },
  {
   "cell_type": "code",
   "execution_count": null,
   "id": "581848ef",
   "metadata": {},
   "outputs": [],
   "source": [
    "# Verificando como ficou distribuido os dados\n",
    "\n",
    "print(X_treino.shape, X_teste.shape)\n",
    "print(y_treino.shape, y_teste.shape)"
   ]
  },
  {
   "cell_type": "markdown",
   "id": "9c877ea6",
   "metadata": {},
   "source": [
    "**Instânciando, treinando e aplicando o modelo**"
   ]
  },
  {
   "cell_type": "code",
   "execution_count": null,
   "id": "34740365",
   "metadata": {},
   "outputs": [],
   "source": [
    "# Instânciando o modelo\n",
    "\n",
    "modelo = KNeighborsClassifier(n_neighbors = 3)"
   ]
  },
  {
   "cell_type": "code",
   "execution_count": null,
   "id": "843657ef",
   "metadata": {},
   "outputs": [],
   "source": [
    "# Treinando o modelo\n",
    "\n",
    "modelo.fit(X_treino, y_treino)"
   ]
  },
  {
   "cell_type": "code",
   "execution_count": null,
   "id": "7a3da4d9",
   "metadata": {},
   "outputs": [],
   "source": [
    "# Aplicando o modelo\n",
    "\n",
    "resultado = modelo.predict(X_teste)"
   ]
  },
  {
   "cell_type": "markdown",
   "id": "45bc25f4",
   "metadata": {},
   "source": [
    "### Técnicas de Validação"
   ]
  },
  {
   "cell_type": "markdown",
   "id": "0b3ef23a",
   "metadata": {},
   "source": [
    "**Matriz de Confusão**"
   ]
  },
  {
   "cell_type": "code",
   "execution_count": null,
   "id": "1b1b8fc6",
   "metadata": {},
   "outputs": [],
   "source": [
    "print(pd.crosstab(y_teste, resultado, rownames = ['Real'], colnames = ['              Predito'], margins = True))"
   ]
  },
  {
   "cell_type": "markdown",
   "id": "424e72e4",
   "metadata": {},
   "source": [
    "**Métricas de Validação**"
   ]
  },
  {
   "cell_type": "code",
   "execution_count": null,
   "id": "aabdddb8",
   "metadata": {},
   "outputs": [],
   "source": [
    "print(metrics.classification_report(y_teste, resultado))"
   ]
  },
  {
   "cell_type": "markdown",
   "id": "cff0e9ec",
   "metadata": {},
   "source": [
    "**Cross Validation**"
   ]
  },
  {
   "cell_type": "code",
   "execution_count": null,
   "id": "15f25698",
   "metadata": {},
   "outputs": [],
   "source": [
    "# Validação Cruzada\n",
    "\n",
    "score = cross_val_score(modelo, dados_2.drop('classe', axis = 1), dados_2['classe'], cv = 5)\n",
    "score"
   ]
  },
  {
   "cell_type": "markdown",
   "id": "bddc9a94",
   "metadata": {},
   "source": [
    "### Otimização do Parâmetro K"
   ]
  },
  {
   "cell_type": "markdown",
   "id": "377f16a5",
   "metadata": {},
   "source": [
    "* **Trabalhando com o GridSearchCV**"
   ]
  },
  {
   "cell_type": "code",
   "execution_count": null,
   "id": "a0df63e1",
   "metadata": {},
   "outputs": [],
   "source": [
    "# Definindo lista de valores para o parâmetro\n",
    "\n",
    "k_lista = list(range(1, 31))\n",
    "n_valores = dict(n_neighbors = k_lista)"
   ]
  },
  {
   "cell_type": "markdown",
   "id": "a1575cc5",
   "metadata": {},
   "source": [
    "**Instânciando e treinando o GridSearchCV**"
   ]
  },
  {
   "cell_type": "code",
   "execution_count": null,
   "id": "bf7c2f66",
   "metadata": {},
   "outputs": [],
   "source": [
    "# Instânciando o modelo\n",
    "\n",
    "modelo_grid = GridSearchCV(modelo, n_valores, cv = 5, scoring = 'accuracy')"
   ]
  },
  {
   "cell_type": "code",
   "execution_count": null,
   "id": "1a457b90",
   "metadata": {},
   "outputs": [],
   "source": [
    "# Treinando o modelo\n",
    "\n",
    "modelo_grid.fit(dados_2.drop('classe', axis = 1), dados_2['classe'])"
   ]
  },
  {
   "cell_type": "markdown",
   "id": "0cfcc268",
   "metadata": {},
   "source": [
    "**Resultado do melhor score**"
   ]
  },
  {
   "cell_type": "code",
   "execution_count": null,
   "id": "bee689a0",
   "metadata": {},
   "outputs": [],
   "source": [
    "print('Melhor valor de k = {} com o valor {} de acurácia'.format(modelo_grid.best_params_, \n",
    "                                                                 modelo_grid.best_score_))"
   ]
  },
  {
   "cell_type": "markdown",
   "id": "b5d7bc8c",
   "metadata": {},
   "source": [
    "**Visualizando os valores de K e acurácia graficamente**"
   ]
  },
  {
   "cell_type": "code",
   "execution_count": null,
   "id": "7e4b24f4",
   "metadata": {},
   "outputs": [],
   "source": [
    "score = []\n",
    "\n",
    "for scores in modelo_grid.cv_results_['mean_test_score']:\n",
    "    score.append(score)\n",
    "    \n",
    "plt.figure(figsize = (10, 6))\n",
    "plt.plot(k_lista, score, linestyle = 'dashed', marked = 'o')\n",
    "plt.show()"
   ]
  },
  {
   "cell_type": "code",
   "execution_count": null,
   "id": "b3d54929",
   "metadata": {},
   "outputs": [],
   "source": []
  }
 ],
 "metadata": {
  "kernelspec": {
   "display_name": "Python 3 (ipykernel)",
   "language": "python",
   "name": "python3"
  },
  "language_info": {
   "codemirror_mode": {
    "name": "ipython",
    "version": 3
   },
   "file_extension": ".py",
   "mimetype": "text/x-python",
   "name": "python",
   "nbconvert_exporter": "python",
   "pygments_lexer": "ipython3",
   "version": "3.9.7"
  }
 },
 "nbformat": 4,
 "nbformat_minor": 5
}
