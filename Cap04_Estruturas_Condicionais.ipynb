{
 "cells": [
  {
   "cell_type": "markdown",
   "id": "cb641703",
   "metadata": {},
   "source": [
    "# Cap 04 - Dominando o Python"
   ]
  },
  {
   "cell_type": "markdown",
   "id": "45c3caec",
   "metadata": {},
   "source": [
    "**Estruturas Condicionais**"
   ]
  },
  {
   "cell_type": "code",
   "execution_count": 1,
   "id": "e517820b",
   "metadata": {},
   "outputs": [
    {
     "data": {
      "text/plain": [
       "True"
      ]
     },
     "execution_count": 1,
     "metadata": {},
     "output_type": "execute_result"
    }
   ],
   "source": [
    "# Retorno boleano\n",
    "\n",
    "10 > 1"
   ]
  },
  {
   "cell_type": "code",
   "execution_count": 2,
   "id": "36dde748",
   "metadata": {},
   "outputs": [
    {
     "data": {
      "text/plain": [
       "False"
      ]
     },
     "execution_count": 2,
     "metadata": {},
     "output_type": "execute_result"
    }
   ],
   "source": [
    "# Retorno boleano\n",
    "\n",
    "10 <= 4"
   ]
  },
  {
   "cell_type": "markdown",
   "id": "e73b5fa0",
   "metadata": {},
   "source": [
    "### Instrução If"
   ]
  },
  {
   "cell_type": "code",
   "execution_count": 3,
   "id": "743471f8",
   "metadata": {},
   "outputs": [
    {
     "name": "stdout",
     "output_type": "stream",
     "text": [
      "Verdadeiro\n"
     ]
    }
   ],
   "source": [
    "# If\n",
    "\n",
    "if 10 > 1:\n",
    "    print('Verdadeiro')"
   ]
  },
  {
   "cell_type": "markdown",
   "id": "aeead9e8",
   "metadata": {},
   "source": [
    "### Instrução Else"
   ]
  },
  {
   "cell_type": "code",
   "execution_count": 4,
   "id": "74fa885c",
   "metadata": {},
   "outputs": [
    {
     "name": "stdout",
     "output_type": "stream",
     "text": [
      "Falso\n"
     ]
    }
   ],
   "source": [
    "# Instrução Else\n",
    "\n",
    "if 10 > 20:\n",
    "    print('Verdadeiro')\n",
    "else:\n",
    "    print('Falso')"
   ]
  },
  {
   "cell_type": "code",
   "execution_count": 5,
   "id": "f6c5f5f4",
   "metadata": {},
   "outputs": [
    {
     "name": "stdout",
     "output_type": "stream",
     "text": [
      "Olá Rivaldo, seja bem vindo!\n"
     ]
    }
   ],
   "source": [
    "# If, else e o operador lógico OR: ao menos uma condição tem que ser verdadeira\n",
    "\n",
    "Nome = 'Rivaldo'\n",
    "\n",
    "if 10 > 100 or Nome == 'Rivaldo':\n",
    "    print('Olá Rivaldo, seja bem vindo!')\n",
    "else:\n",
    "    print('Você não é o Rivaldo')"
   ]
  },
  {
   "cell_type": "code",
   "execution_count": 6,
   "id": "ad6aff0f",
   "metadata": {},
   "outputs": [
    {
     "name": "stdout",
     "output_type": "stream",
     "text": [
      "Você não é o Rivaldo\n"
     ]
    }
   ],
   "source": [
    "# If, else e o operador lógico AND: as duas condições devem ser satisfeitas\n",
    "\n",
    "Nome = 'Rivaldo'\n",
    "\n",
    "if 10 > 100 and Nome == 'Rivaldo':\n",
    "    print('Olá Rivaldo, seja bem vindo!')\n",
    "else:\n",
    "    print('Você não é o Rivaldo')"
   ]
  },
  {
   "cell_type": "markdown",
   "id": "3079ca28",
   "metadata": {},
   "source": [
    "### Instrução Elif"
   ]
  },
  {
   "cell_type": "code",
   "execution_count": 11,
   "id": "d5e32d55",
   "metadata": {},
   "outputs": [
    {
     "name": "stdout",
     "output_type": "stream",
     "text": [
      "Operação inválida! O valor deve ser maior que 40!\n"
     ]
    }
   ],
   "source": [
    "# Instrução Elif\n",
    "\n",
    "valor = 40\n",
    "\n",
    "if valor > 100:\n",
    "    print('Ok, o valor é maior que 100!')\n",
    "elif valor > 50:\n",
    "    print('Ok, o valor é maior que 50!')\n",
    "elif valor > 40:\n",
    "    print('Ok, o valor é maior que 40!')\n",
    "else:\n",
    "    print('Operação inválida! O valor deve ser maior que 40!')"
   ]
  },
  {
   "cell_type": "markdown",
   "id": "920282ab",
   "metadata": {},
   "source": [
    "### Instrução If Aninhada"
   ]
  },
  {
   "cell_type": "code",
   "execution_count": 17,
   "id": "091ba76b",
   "metadata": {},
   "outputs": [
    {
     "name": "stdout",
     "output_type": "stream",
     "text": [
      "Nome de usuário correto, mas a senha está inválida :-( . Você esqueceu a senha?\n"
     ]
    }
   ],
   "source": [
    "# If aninhado\n",
    "\n",
    "usuario = 'Rivaldo Junior'\n",
    "senha = 'abcdef'\n",
    "\n",
    "\n",
    "if usuario == 'Rivaldo Junior':\n",
    "    if senha == 'intelbras':\n",
    "        print('Olá :-), seja bem vindo')\n",
    "    else:\n",
    "        print('Nome de usuário correto, mas a senha está inválida :-( . Você esqueceu a senha?')\n",
    "    if usuario != 'Rivaldo Junior':\n",
    "        print('Nome de usuário inválido!!!')"
   ]
  }
 ],
 "metadata": {
  "kernelspec": {
   "display_name": "Python 3",
   "language": "python",
   "name": "python3"
  },
  "language_info": {
   "codemirror_mode": {
    "name": "ipython",
    "version": 3
   },
   "file_extension": ".py",
   "mimetype": "text/x-python",
   "name": "python",
   "nbconvert_exporter": "python",
   "pygments_lexer": "ipython3",
   "version": "3.8.8"
  }
 },
 "nbformat": 4,
 "nbformat_minor": 5
}
