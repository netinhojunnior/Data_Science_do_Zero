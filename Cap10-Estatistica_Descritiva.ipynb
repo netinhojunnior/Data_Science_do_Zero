{
 "cells": [
  {
   "cell_type": "markdown",
   "id": "4453f0a6",
   "metadata": {},
   "source": [
    "# Estatística Descritiva"
   ]
  },
  {
   "cell_type": "code",
   "execution_count": 1,
   "id": "79262d65",
   "metadata": {},
   "outputs": [],
   "source": [
    "# Carregando bibliotecas\n",
    "\n",
    "import numpy as np\n",
    "import matplotlib.pyplot as plt\n",
    "from cycler import cycler"
   ]
  },
  {
   "cell_type": "code",
   "execution_count": 2,
   "id": "4c3f45f4",
   "metadata": {},
   "outputs": [],
   "source": [
    "# Carregando bibliotecas\n",
    "\n",
    "from scipy.stats.mstats import gmean, hmean\n",
    "from scipy import stats"
   ]
  },
  {
   "cell_type": "markdown",
   "id": "105867cc",
   "metadata": {},
   "source": [
    "### Média Aritmética"
   ]
  },
  {
   "cell_type": "markdown",
   "id": "99429df5",
   "metadata": {},
   "source": [
    "   * É a soma de todos os elementos do conjunto divididos pelo número de elementos que compõe o conjunto."
   ]
  },
  {
   "cell_type": "code",
   "execution_count": 3,
   "id": "09336c9c",
   "metadata": {},
   "outputs": [
    {
     "data": {
      "text/plain": [
       "3.5"
      ]
     },
     "execution_count": 3,
     "metadata": {},
     "output_type": "execute_result"
    }
   ],
   "source": [
    "# Exemplo\n",
    "\n",
    "dados = [1, 2, 3, 4, 5, 6] # Criando um conjunto de dados\n",
    "np.mean(dados)             # Calculando a média aritmética"
   ]
  },
  {
   "cell_type": "markdown",
   "id": "db72063c",
   "metadata": {},
   "source": [
    "### Média Geométrica"
   ]
  },
  {
   "cell_type": "markdown",
   "id": "3deda8ff",
   "metadata": {},
   "source": [
    "   * É a raiz n-ésima do produto de todos os elementos que compõe o conjunto"
   ]
  },
  {
   "cell_type": "code",
   "execution_count": 4,
   "id": "f7206f6d",
   "metadata": {},
   "outputs": [
    {
     "data": {
      "text/plain": [
       "9.343309701893514"
      ]
     },
     "execution_count": 4,
     "metadata": {},
     "output_type": "execute_result"
    }
   ],
   "source": [
    "# Exemplo\n",
    "\n",
    "dados_2 = [7, 8, 9, 10, 11, 12] # Criando conjunto de dados\n",
    "gmean(dados_2)                  # Calculando a média geométrica"
   ]
  },
  {
   "cell_type": "markdown",
   "id": "601cb249",
   "metadata": {},
   "source": [
    "### Média Harmônica"
   ]
  },
  {
   "cell_type": "markdown",
   "id": "b7cb8ec3",
   "metadata": {},
   "source": [
    "   * É o número de elementos divididos pela soma dos inversos dos elementos que compõe o conjunto."
   ]
  },
  {
   "cell_type": "code",
   "execution_count": 5,
   "id": "2429722e",
   "metadata": {},
   "outputs": [
    {
     "data": {
      "text/plain": [
       "15.310129641635603"
      ]
     },
     "execution_count": 5,
     "metadata": {},
     "output_type": "execute_result"
    }
   ],
   "source": [
    "# Exemplo\n",
    "\n",
    "dados_3 = [13, 14, 15, 16, 17, 18] # Criando conjunto de dados\n",
    "hmean(dados_3)                     # Calculando a média harmônica"
   ]
  },
  {
   "cell_type": "markdown",
   "id": "2e0b3ddb",
   "metadata": {},
   "source": [
    "### Moda"
   ]
  },
  {
   "cell_type": "markdown",
   "id": "262bdef4",
   "metadata": {},
   "source": [
    "   * São os valores mais frequentes em uma distribuição"
   ]
  },
  {
   "cell_type": "code",
   "execution_count": 6,
   "id": "395f35a2",
   "metadata": {},
   "outputs": [
    {
     "data": {
      "text/plain": [
       "ModeResult(mode=array([4]), count=array([3]))"
      ]
     },
     "execution_count": 6,
     "metadata": {},
     "output_type": "execute_result"
    }
   ],
   "source": [
    "# Exemplo\n",
    "\n",
    "dados_4 = [1, 2, 3, 4, 4, 5, 4, 6, 7] # Criando conjunto de dados\n",
    "stats.mode(dados_4)                   # Calculando a moda"
   ]
  },
  {
   "cell_type": "code",
   "execution_count": 7,
   "id": "b53aaab7",
   "metadata": {},
   "outputs": [
    {
     "data": {
      "text/plain": [
       "ModeResult(mode=array([1]), count=array([3]))"
      ]
     },
     "execution_count": 7,
     "metadata": {},
     "output_type": "execute_result"
    }
   ],
   "source": [
    "# Exemplo bimodal\n",
    "\n",
    "dados_5 = [1, 1, 1, 2, 3, 4, 4, 4] # Criando o conjunto de dados\n",
    "stats.mode(dados_5)                # Calculando a moda"
   ]
  },
  {
   "cell_type": "markdown",
   "id": "ebf40422",
   "metadata": {},
   "source": [
    "**Observação:** Usando stats.mode() em um exemplo bimodal, o resultado exibido será apenas o primeiro valor que se repete e não todos."
   ]
  },
  {
   "cell_type": "code",
   "execution_count": 8,
   "id": "92417f64",
   "metadata": {},
   "outputs": [],
   "source": [
    "# Criando uma função para calcular a moda\n",
    "\n",
    "from collections import Counter\n",
    "\n",
    "def moda (x_dados):\n",
    "    elementos = Counter(x_dados)\n",
    "    print(elementos)\n",
    "    moda = [x for x, conte in elementos.items() if conte == max(elementos.values())]\n",
    "    return moda"
   ]
  },
  {
   "cell_type": "code",
   "execution_count": 9,
   "id": "2701d62d",
   "metadata": {},
   "outputs": [
    {
     "name": "stdout",
     "output_type": "stream",
     "text": [
      "Counter({1: 3, 4: 3, 2: 1, 3: 1})\n"
     ]
    },
    {
     "data": {
      "text/plain": [
       "[1, 4]"
      ]
     },
     "execution_count": 9,
     "metadata": {},
     "output_type": "execute_result"
    }
   ],
   "source": [
    "# Aplicando função ao exemplo bimodal\n",
    "\n",
    "moda(dados_5)"
   ]
  },
  {
   "cell_type": "code",
   "execution_count": 10,
   "id": "b57c1f17",
   "metadata": {},
   "outputs": [
    {
     "name": "stdout",
     "output_type": "stream",
     "text": [
      "Counter({1: 1, 2: 1, 3: 1, 4: 1, 5: 1, 6: 1})\n"
     ]
    },
    {
     "data": {
      "text/plain": [
       "[1, 2, 3, 4, 5, 6]"
      ]
     },
     "execution_count": 10,
     "metadata": {},
     "output_type": "execute_result"
    }
   ],
   "source": [
    "# Exemplo amodal\n",
    "\n",
    "dados_6 = [1, 2, 3, 4, 5, 6] # Criando conjunto de dados\n",
    "moda(dados_6)                # Calculando a moda"
   ]
  },
  {
   "cell_type": "markdown",
   "id": "7b2eb1d3",
   "metadata": {},
   "source": [
    "### Mediana"
   ]
  },
  {
   "cell_type": "markdown",
   "id": "6c4fddad",
   "metadata": {},
   "source": [
    "   * É o valor da variável que divide os dados ordenados em duas partes de igual frequência."
   ]
  },
  {
   "cell_type": "code",
   "execution_count": 11,
   "id": "4b877fc5",
   "metadata": {},
   "outputs": [
    {
     "data": {
      "text/plain": [
       "5.0"
      ]
     },
     "execution_count": 11,
     "metadata": {},
     "output_type": "execute_result"
    }
   ],
   "source": [
    "# Exemplo 1\n",
    "\n",
    "dados_7 = [9, 7, 1, 7, 6, 4, 6,3, 2, 4, 8, 4] # Criando conjunto de dados\n",
    "np.sort(dados_7)                              # Ordenando os dados\n",
    "np.median(dados_7)                            # Calculando a mediana"
   ]
  },
  {
   "cell_type": "code",
   "execution_count": 12,
   "id": "2a926905",
   "metadata": {},
   "outputs": [
    {
     "data": {
      "text/plain": [
       "2.5"
      ]
     },
     "execution_count": 12,
     "metadata": {},
     "output_type": "execute_result"
    }
   ],
   "source": [
    "# Exemplo 2\n",
    "\n",
    "dados_8 = [1, 2, 1, 1, 4, 5, 3, 6] # Criando conjunto de dados\n",
    "np.sort(dados_8)                   # Ordenando os dados\n",
    "np.median(dados_8)                 # Calculando a mediana"
   ]
  },
  {
   "cell_type": "markdown",
   "id": "e189c8d9",
   "metadata": {},
   "source": [
    "### Medidas Separatrizes"
   ]
  },
  {
   "cell_type": "code",
   "execution_count": 13,
   "id": "6d5a9f14",
   "metadata": {},
   "outputs": [
    {
     "data": {
      "text/plain": [
       "array([5.3, 6.7, 7.8, 8.2, 8.7, 9.7])"
      ]
     },
     "execution_count": 13,
     "metadata": {},
     "output_type": "execute_result"
    }
   ],
   "source": [
    "# Criando e ordenando um conjunto de dados\n",
    "\n",
    "notas = [8.7, 5.3, 7.8, 6.7, 9.7, 8.2]\n",
    "np.sort(notas)"
   ]
  },
  {
   "cell_type": "markdown",
   "id": "a5d14e16",
   "metadata": {},
   "source": [
    "**Quatis**"
   ]
  },
  {
   "cell_type": "code",
   "execution_count": 14,
   "id": "4fc1653a",
   "metadata": {},
   "outputs": [
    {
     "data": {
      "text/plain": [
       "6.975"
      ]
     },
     "execution_count": 14,
     "metadata": {},
     "output_type": "execute_result"
    }
   ],
   "source": [
    "# 1º Quartil: representa 25% dos dados\n",
    "\n",
    "np.quantile(notas, .25)"
   ]
  },
  {
   "cell_type": "code",
   "execution_count": 15,
   "id": "a9108042",
   "metadata": {},
   "outputs": [
    {
     "data": {
      "text/plain": [
       "8.0"
      ]
     },
     "execution_count": 15,
     "metadata": {},
     "output_type": "execute_result"
    }
   ],
   "source": [
    "# 2º Quartil: representa 50% dos dados. É igual a mediana\n",
    "\n",
    "np.quantile(notas, .50)"
   ]
  },
  {
   "cell_type": "code",
   "execution_count": 16,
   "id": "dacec9d2",
   "metadata": {},
   "outputs": [
    {
     "data": {
      "text/plain": [
       "8.0"
      ]
     },
     "execution_count": 16,
     "metadata": {},
     "output_type": "execute_result"
    }
   ],
   "source": [
    "# Calculando a mediana e com o 2º quartil\n",
    "\n",
    "np.median(notas)"
   ]
  },
  {
   "cell_type": "code",
   "execution_count": 17,
   "id": "f6cebf3c",
   "metadata": {},
   "outputs": [
    {
     "data": {
      "text/plain": [
       "8.575"
      ]
     },
     "execution_count": 17,
     "metadata": {},
     "output_type": "execute_result"
    }
   ],
   "source": [
    "# 3º Quartil: representa 75% dos dados\n",
    "\n",
    "np.quantile(notas, .75)"
   ]
  },
  {
   "cell_type": "markdown",
   "id": "09c70ac3",
   "metadata": {},
   "source": [
    "**Percentil**"
   ]
  },
  {
   "cell_type": "code",
   "execution_count": 18,
   "id": "1f8b6a46",
   "metadata": {},
   "outputs": [
    {
     "data": {
      "text/plain": [
       "6.975"
      ]
     },
     "execution_count": 18,
     "metadata": {},
     "output_type": "execute_result"
    }
   ],
   "source": [
    "# P25: Percentil 25 = 1º quartil\n",
    "\n",
    "np.percentile(notas, 25)"
   ]
  },
  {
   "cell_type": "code",
   "execution_count": 19,
   "id": "de339c2b",
   "metadata": {},
   "outputs": [
    {
     "data": {
      "text/plain": [
       "8.0"
      ]
     },
     "execution_count": 19,
     "metadata": {},
     "output_type": "execute_result"
    }
   ],
   "source": [
    "# P50: Percentil 50 = 2º quartil = Mediana\n",
    "\n",
    "np.percentile(notas, 50)"
   ]
  },
  {
   "cell_type": "code",
   "execution_count": 20,
   "id": "bfff80f7",
   "metadata": {},
   "outputs": [
    {
     "data": {
      "text/plain": [
       "8.575"
      ]
     },
     "execution_count": 20,
     "metadata": {},
     "output_type": "execute_result"
    }
   ],
   "source": [
    "# P75: Percentil 75 = 3º quartil\n",
    "\n",
    "np.percentile(notas, 75)"
   ]
  },
  {
   "cell_type": "markdown",
   "id": "86b68732",
   "metadata": {},
   "source": [
    "### Medidas de Variação e Dispersão"
   ]
  },
  {
   "cell_type": "markdown",
   "id": "40c2b35e",
   "metadata": {},
   "source": [
    "   * Média;\n",
    "   * Variância;\n",
    "   * Desvio Padrão;\n",
    "   * Coeficiente de Variação."
   ]
  },
  {
   "cell_type": "code",
   "execution_count": 21,
   "id": "ce2bfe4a",
   "metadata": {},
   "outputs": [],
   "source": [
    "# Gerando conjunto de dados\n",
    "\n",
    "dados_9 = [10, 20, 30, 40, 50, 60, 70, 80]"
   ]
  },
  {
   "cell_type": "code",
   "execution_count": 22,
   "id": "09609278",
   "metadata": {},
   "outputs": [
    {
     "data": {
      "text/plain": [
       "45.0"
      ]
     },
     "execution_count": 22,
     "metadata": {},
     "output_type": "execute_result"
    }
   ],
   "source": [
    "# Calculando a média\n",
    "\n",
    "np.mean(dados_9)"
   ]
  },
  {
   "cell_type": "code",
   "execution_count": 23,
   "id": "e67bafed",
   "metadata": {},
   "outputs": [
    {
     "data": {
      "text/plain": [
       "525.0"
      ]
     },
     "execution_count": 23,
     "metadata": {},
     "output_type": "execute_result"
    }
   ],
   "source": [
    "# Calculando a variância\n",
    "\n",
    "np.var(dados_9)"
   ]
  },
  {
   "cell_type": "code",
   "execution_count": 24,
   "id": "e5c1ab6e",
   "metadata": {},
   "outputs": [
    {
     "data": {
      "text/plain": [
       "22.9128784747792"
      ]
     },
     "execution_count": 24,
     "metadata": {},
     "output_type": "execute_result"
    }
   ],
   "source": [
    "# Calculando o desvio padrão\n",
    "\n",
    "np.std(dados_9)"
   ]
  },
  {
   "cell_type": "code",
   "execution_count": 25,
   "id": "a1207300",
   "metadata": {},
   "outputs": [
    {
     "data": {
      "text/plain": [
       "0.5091750772173155"
      ]
     },
     "execution_count": 25,
     "metadata": {},
     "output_type": "execute_result"
    }
   ],
   "source": [
    "# Calculado o coeficiente de variação\n",
    "\n",
    "stats.variation(dados_9)"
   ]
  },
  {
   "cell_type": "code",
   "execution_count": 26,
   "id": "d41ee470",
   "metadata": {},
   "outputs": [
    {
     "data": {
      "text/plain": [
       "0.5091750772173155"
      ]
     },
     "execution_count": 26,
     "metadata": {},
     "output_type": "execute_result"
    }
   ],
   "source": [
    "# Calculando o coeficiente de variação 'manualmente'\n",
    "\n",
    "media = np.mean(dados_9)\n",
    "desvio = np.std(dados_9)\n",
    "\n",
    "coeficiente = desvio / media\n",
    "coeficiente"
   ]
  },
  {
   "cell_type": "markdown",
   "id": "fbfd2b0f",
   "metadata": {},
   "source": [
    "### Medidas de Assimetria"
   ]
  },
  {
   "cell_type": "markdown",
   "id": "99be0045",
   "metadata": {},
   "source": [
    "   * Possibilita analisar uma distribuição em relação a moda, mediana e variância."
   ]
  },
  {
   "cell_type": "code",
   "execution_count": 27,
   "id": "36f3c949",
   "metadata": {},
   "outputs": [],
   "source": [
    "# Carregando biblioteca\n",
    "\n",
    "from scipy.stats import kurtosis, skew"
   ]
  },
  {
   "cell_type": "code",
   "execution_count": 28,
   "id": "969b9539",
   "metadata": {},
   "outputs": [
    {
     "data": {
      "text/plain": [
       "0.0"
      ]
     },
     "execution_count": 28,
     "metadata": {},
     "output_type": "execute_result"
    }
   ],
   "source": [
    "# Coeficiente de Pearson\n",
    "\n",
    "stats.skew(dados_9)"
   ]
  },
  {
   "cell_type": "code",
   "execution_count": 29,
   "id": "549490a8",
   "metadata": {},
   "outputs": [
    {
     "data": {
      "text/plain": [
       "-1.2380952380952381"
      ]
     },
     "execution_count": 29,
     "metadata": {},
     "output_type": "execute_result"
    }
   ],
   "source": [
    "# Coeficiente de Curtose\n",
    "\n",
    "stats.kurtosis(dados_9)"
   ]
  },
  {
   "cell_type": "markdown",
   "id": "771650e7",
   "metadata": {},
   "source": [
    "###  Criando uma função para o cálculo das medidas estatísticas"
   ]
  },
  {
   "cell_type": "code",
   "execution_count": 30,
   "id": "e0a23459",
   "metadata": {},
   "outputs": [],
   "source": [
    "# Criando função\n",
    "\n",
    "def estatisticas(dados):\n",
    "    media = round(np.mean(dados), 2)\n",
    "    moda = round(stats.mode(dados,)[0][0], 2)\n",
    "    mediana = round(np.median(dados), 2)\n",
    "    variancia = round(np.var(dados), 2)\n",
    "    desvio = round(np.std(dados), 2)\n",
    "    pearson = round(stats.skew(dados), 2)\n",
    "    kurtosis = round(stats.kurtosis(dados), 2)\n",
    "    result = print(\"Média: {}\\nModa: {}\\nMedian: {}\\nVariância: {}\\nDesvio Padrão: {}\\nCoeficiente de Pearson: {}\\nCoeficiente de Curtose: {}\".format(\n",
    "    media, moda, mediana, variancia, desvio, pearson, kurtosis))\n",
    "    return result"
   ]
  },
  {
   "cell_type": "code",
   "execution_count": 31,
   "id": "d9feb7d7",
   "metadata": {},
   "outputs": [
    {
     "name": "stdout",
     "output_type": "stream",
     "text": [
      "Média: 5.08\n",
      "Moda: 5\n",
      "Median: 5.0\n",
      "Variância: 0.41\n",
      "Desvio Padrão: 0.64\n",
      "Coeficiente de Pearson: -0.08\n",
      "Coeficiente de Curtose: -0.58\n"
     ]
    }
   ],
   "source": [
    "# Aplicando função criada\n",
    "\n",
    "dados_x = [4, 5, 6, 5, 5, 6, 6, 5, 4, 5, 5, 5] # Criando conjunto de dados\n",
    "estatisticas(dados_x)                          # Aplicando função"
   ]
  }
 ],
 "metadata": {
  "kernelspec": {
   "display_name": "Python 3 (ipykernel)",
   "language": "python",
   "name": "python3"
  },
  "language_info": {
   "codemirror_mode": {
    "name": "ipython",
    "version": 3
   },
   "file_extension": ".py",
   "mimetype": "text/x-python",
   "name": "python",
   "nbconvert_exporter": "python",
   "pygments_lexer": "ipython3",
   "version": "3.9.7"
  }
 },
 "nbformat": 4,
 "nbformat_minor": 5
}
