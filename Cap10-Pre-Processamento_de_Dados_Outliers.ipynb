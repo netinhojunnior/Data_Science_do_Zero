{
 "cells": [
  {
   "cell_type": "markdown",
   "id": "31d23aa1",
   "metadata": {},
   "source": [
    "# Pré-Processamento de Dados"
   ]
  },
  {
   "cell_type": "markdown",
   "id": "674446a0",
   "metadata": {},
   "source": [
    "### Detecção de Anomalias"
   ]
  },
  {
   "cell_type": "code",
   "execution_count": 4,
   "id": "b8b84cf7",
   "metadata": {},
   "outputs": [],
   "source": [
    "# Carregando biblioteca\n",
    "\n",
    "import numpy as np\n",
    "import seaborn as sns"
   ]
  },
  {
   "cell_type": "code",
   "execution_count": 5,
   "id": "465b292e",
   "metadata": {},
   "outputs": [],
   "source": [
    "# Simulando um conjunto de dados e os transformando em uma array numpy\n",
    "\n",
    "dados = [10, 386, 479, 627, 20, 523, 482, 483, 542, 699, 535, 617, 577, 471, 615, 583, 441, 562, 563, 527, \n",
    "         453, 530, 433, 541, 585, 704, 443, 569, 430, 637, 331, 511, 552, 496, 484, 566, 554, 472, 335, \n",
    "         440, 579, 341, 545, 615, 548, 604, 439, 556, 442, 461, 624, 611, 444, 578, 405, 487, 490, 496, 398, \n",
    "         512, 422, 455, 449, 432, 607, 679, 434, 597, 639, 565, 415, 486, 668, 414, 665, 763, 557, 304, 404, 454, \n",
    "         689, 610, 483, 441, 657, 590, 492, 476, 437, 483, 529, 363, 711, 543,30, 1300, 1350, 1400]\n",
    "dados = np.array(dados)"
   ]
  },
  {
   "cell_type": "code",
   "execution_count": 6,
   "id": "d76e4ba4",
   "metadata": {},
   "outputs": [
    {
     "data": {
      "text/plain": [
       "numpy.ndarray"
      ]
     },
     "execution_count": 6,
     "metadata": {},
     "output_type": "execute_result"
    }
   ],
   "source": [
    "# Verificando o tipo da variável\n",
    "\n",
    "type(dados)"
   ]
  },
  {
   "cell_type": "code",
   "execution_count": 12,
   "id": "acfa6831",
   "metadata": {},
   "outputs": [
    {
     "data": {
      "image/png": "[encoded data removed]",
      "text/plain": [
       "<Figure size 432x288 with 1 Axes>"
      ]
     },
     "metadata": {},
     "output_type": "display_data"
    }
   ],
   "source": [
    "# Visualizando os valores fora do padrão (outliers)\n",
    "\n",
    "%matplotlib inline\n",
    "sns.set(style = 'whitegrid', color_codes = True)\n",
    "sns.boxplot(data = dados);"
   ]
  },
  {
   "cell_type": "markdown",
   "id": "3f5b3bd1",
   "metadata": {},
   "source": [
    "**Verificando informações do gráfico**"
   ]
  },
  {
   "cell_type": "code",
   "execution_count": 13,
   "id": "0fdb7cbd",
   "metadata": {},
   "outputs": [
    {
     "data": {
      "text/plain": [
       "530.3673469387755"
      ]
     },
     "execution_count": 13,
     "metadata": {},
     "output_type": "execute_result"
    }
   ],
   "source": [
    "# Média\n",
    "\n",
    "np.mean(dados, axis = 0)"
   ]
  },
  {
   "cell_type": "code",
   "execution_count": 14,
   "id": "50ecef7f",
   "metadata": {},
   "outputs": [
    {
     "data": {
      "text/plain": [
       "192.51166875607043"
      ]
     },
     "execution_count": 14,
     "metadata": {},
     "output_type": "execute_result"
    }
   ],
   "source": [
    "# Desvio Padrão\n",
    "\n",
    "np.std(dados, axis = 0)"
   ]
  },
  {
   "cell_type": "code",
   "execution_count": 18,
   "id": "74b3efe7",
   "metadata": {},
   "outputs": [
    {
     "data": {
      "text/plain": [
       "145.34400942663467"
      ]
     },
     "execution_count": 18,
     "metadata": {},
     "output_type": "execute_result"
    }
   ],
   "source": [
    "# Fronteira de valor abaixo da média em duas vezes o desvio padrão\n",
    "\n",
    "media = np.mean(dados, axis = 0)\n",
    "desvio = np.std(dados, axis = 0)\n",
    "valor_abaixo = media - 2 * desvio\n",
    "valor_abaixo"
   ]
  },
  {
   "cell_type": "code",
   "execution_count": 19,
   "id": "aba59af4",
   "metadata": {},
   "outputs": [
    {
     "data": {
      "text/plain": [
       "915.3906844509164"
      ]
     },
     "execution_count": 19,
     "metadata": {},
     "output_type": "execute_result"
    }
   ],
   "source": [
    "# Fronteira de valor acima da média em duas vezes o desvio padrão\n",
    "\n",
    "valor_acima = media + 2 * desvio\n",
    "valor_acima"
   ]
  },
  {
   "cell_type": "code",
   "execution_count": 20,
   "id": "b11a493a",
   "metadata": {},
   "outputs": [
    {
     "name": "stdout",
     "output_type": "stream",
     "text": [
      "10\n",
      "20\n",
      "30\n"
     ]
    }
   ],
   "source": [
    "# Listando os valores abaixo da média em duas vezes o desvio padrão\n",
    "\n",
    "for x in dados:\n",
    "    if(x < valor_abaixo):\n",
    "        print(x)"
   ]
  },
  {
   "cell_type": "code",
   "execution_count": 21,
   "id": "78140a9d",
   "metadata": {},
   "outputs": [
    {
     "name": "stdout",
     "output_type": "stream",
     "text": [
      "1300\n",
      "1350\n",
      "1400\n"
     ]
    }
   ],
   "source": [
    "# Listando os valores acima da média em duas vezes o desvio padrão\n",
    "\n",
    "for x in dados:\n",
    "    if(x > valor_acima):\n",
    "        print(x)"
   ]
  },
  {
   "cell_type": "markdown",
   "id": "5b22dd0e",
   "metadata": {},
   "source": [
    "**Removendo Outliers**"
   ]
  },
  {
   "cell_type": "code",
   "execution_count": 22,
   "id": "5ee430e2",
   "metadata": {},
   "outputs": [],
   "source": [
    "# Removendo os valores muito abaixo da média\n",
    "\n",
    "dados = [x for x in dados if(x > valor_abaixo)]"
   ]
  },
  {
   "cell_type": "code",
   "execution_count": 23,
   "id": "33dfb286",
   "metadata": {},
   "outputs": [],
   "source": [
    "# Removendo os valores muito acima da média\n",
    "\n",
    "dados = [x for x in dados if(x < valor_acima)]"
   ]
  },
  {
   "cell_type": "markdown",
   "id": "bbf3a12a",
   "metadata": {},
   "source": [
    "**Visualizando a distribuição dos dados**"
   ]
  },
  {
   "cell_type": "code",
   "execution_count": 24,
   "id": "e2dad94b",
   "metadata": {},
   "outputs": [
    {
     "data": {
      "image/png": "[encoded data removed]",
      "text/plain": [
       "<Figure size 432x288 with 1 Axes>"
      ]
     },
     "metadata": {},
     "output_type": "display_data"
    }
   ],
   "source": [
    "# Boxplot\n",
    "\n",
    "sns.boxplot(data = dados);"
   ]
  }
 ],
 "metadata": {
  "kernelspec": {
   "display_name": "Python 3 (ipykernel)",
   "language": "python",
   "name": "python3"
  },
  "language_info": {
   "codemirror_mode": {
    "name": "ipython",
    "version": 3
   },
   "file_extension": ".py",
   "mimetype": "text/x-python",
   "name": "python",
   "nbconvert_exporter": "python",
   "pygments_lexer": "ipython3",
   "version": "3.9.7"
  }
 },
 "nbformat": 4,
 "nbformat_minor": 5
}
