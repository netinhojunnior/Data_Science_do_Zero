{
 "cells": [
  {
   "cell_type": "markdown",
   "id": "fed69cc1",
   "metadata": {},
   "source": [
    "# Cap 04 - Dominando o Python"
   ]
  },
  {
   "cell_type": "markdown",
   "id": "0bc5e11f",
   "metadata": {},
   "source": [
    "### Criando uma lista"
   ]
  },
  {
   "cell_type": "code",
   "execution_count": 1,
   "id": "1c07d07a",
   "metadata": {},
   "outputs": [],
   "source": [
    "# Criando uma lista\n",
    "\n",
    "lista = [1, 2, 3]"
   ]
  },
  {
   "cell_type": "code",
   "execution_count": 2,
   "id": "18d42019",
   "metadata": {},
   "outputs": [
    {
     "data": {
      "text/plain": [
       "[1, 2, 3]"
      ]
     },
     "execution_count": 2,
     "metadata": {},
     "output_type": "execute_result"
    }
   ],
   "source": [
    "# Imprimindo valores da lista\n",
    "\n",
    "lista"
   ]
  },
  {
   "cell_type": "code",
   "execution_count": 3,
   "id": "7eb85819",
   "metadata": {},
   "outputs": [],
   "source": [
    "# Criando listas com diferentes tipos de dados\n",
    "\n",
    "lista_2 = ['Cachorro', 'Gato', 4030, 40.30]"
   ]
  },
  {
   "cell_type": "code",
   "execution_count": 4,
   "id": "4afec14b",
   "metadata": {},
   "outputs": [
    {
     "data": {
      "text/plain": [
       "['Cachorro', 'Gato', 4030, 40.3]"
      ]
     },
     "execution_count": 4,
     "metadata": {},
     "output_type": "execute_result"
    }
   ],
   "source": [
    "# Imprimindo valores da lista\n",
    "\n",
    "lista_2"
   ]
  },
  {
   "cell_type": "code",
   "execution_count": 5,
   "id": "5993ef0b",
   "metadata": {},
   "outputs": [
    {
     "data": {
      "text/plain": [
       "[[1, 2, 3], [4, 5, 6], [7, 8, 9]]"
      ]
     },
     "execution_count": 5,
     "metadata": {},
     "output_type": "execute_result"
    }
   ],
   "source": [
    "# Criando listas dentro de uma lista\n",
    "\n",
    "mult_lista = [[1, 2, 3], [4, 5, 6], [7, 8, 9]]\n",
    "mult_lista"
   ]
  },
  {
   "cell_type": "code",
   "execution_count": 6,
   "id": "e6a0afff",
   "metadata": {},
   "outputs": [
    {
     "name": "stdout",
     "output_type": "stream",
     "text": [
      "1\n",
      "2\n",
      "3\n"
     ]
    }
   ],
   "source": [
    "# Índices de elementos da lista\n",
    "\n",
    "print(lista[0]) # Retorna o 1º elemento da lista\n",
    "print(lista[1]) # Retorna o 2º elemento da lista\n",
    "print(lista[2]) # Retorna o 3º elemento da lista"
   ]
  },
  {
   "cell_type": "code",
   "execution_count": 7,
   "id": "a35709b0",
   "metadata": {},
   "outputs": [],
   "source": [
    "# Atualizando valores em uma lista\n",
    "\n",
    "lista[0] = 'Neto' # Substitui o valor 1 da lista pela palavra Neto"
   ]
  },
  {
   "cell_type": "code",
   "execution_count": 8,
   "id": "8321582e",
   "metadata": {},
   "outputs": [
    {
     "data": {
      "text/plain": [
       "['Neto', 2, 3]"
      ]
     },
     "execution_count": 8,
     "metadata": {},
     "output_type": "execute_result"
    }
   ],
   "source": [
    "# Verificando a lista\n",
    "\n",
    "lista"
   ]
  },
  {
   "cell_type": "code",
   "execution_count": 9,
   "id": "52bc7814",
   "metadata": {},
   "outputs": [
    {
     "data": {
      "text/plain": [
       "['Neto', 2, 3]"
      ]
     },
     "execution_count": 9,
     "metadata": {},
     "output_type": "execute_result"
    }
   ],
   "source": [
    "# Slicing em lista\n",
    "\n",
    "lista[0:] # Retorna todos os elementos da lista desde o index 0"
   ]
  },
  {
   "cell_type": "code",
   "execution_count": 10,
   "id": "f92a37f8",
   "metadata": {},
   "outputs": [],
   "source": [
    "# Removendo elementos de uma lista\n",
    "\n",
    "lista.remove(\"Neto\")"
   ]
  },
  {
   "cell_type": "code",
   "execution_count": 11,
   "id": "982f2cf1",
   "metadata": {},
   "outputs": [
    {
     "data": {
      "text/plain": [
       "[2, 3]"
      ]
     },
     "execution_count": 11,
     "metadata": {},
     "output_type": "execute_result"
    }
   ],
   "source": [
    "# Verificando lista\n",
    "\n",
    "lista"
   ]
  },
  {
   "cell_type": "markdown",
   "id": "7b0ff477",
   "metadata": {},
   "source": [
    "**Operações em Lista**"
   ]
  },
  {
   "cell_type": "code",
   "execution_count": 12,
   "id": "fa91c05b",
   "metadata": {},
   "outputs": [
    {
     "name": "stdout",
     "output_type": "stream",
     "text": [
      "2\n",
      "4\n",
      "3\n"
     ]
    }
   ],
   "source": [
    "# Verificando o tamanho de uma lista\n",
    "\n",
    "print(len(lista))       # Retorna o tamanho de lista\n",
    "print(len(lista_2))     # Retorna o tamanho de lista_2\n",
    "print(len(mult_lista))  # Retorna o tamanho de mult_lista: irá retornar o total de listas"
   ]
  },
  {
   "cell_type": "code",
   "execution_count": 13,
   "id": "d76dd936",
   "metadata": {},
   "outputs": [
    {
     "data": {
      "text/plain": [
       "[2, 3, 'Cachorro', 'Gato', 4030, 40.3]"
      ]
     },
     "execution_count": 13,
     "metadata": {},
     "output_type": "execute_result"
    }
   ],
   "source": [
    "# Concatenando listas\n",
    "\n",
    "lista + lista_2"
   ]
  },
  {
   "cell_type": "code",
   "execution_count": 14,
   "id": "0473d45e",
   "metadata": {},
   "outputs": [
    {
     "data": {
      "text/plain": [
       "True"
      ]
     },
     "execution_count": 14,
     "metadata": {},
     "output_type": "execute_result"
    }
   ],
   "source": [
    "# Checando elementos em uma lista\n",
    "\n",
    "'Cachorro' in lista_2 # Verificando se a palavra Cachorro está presente em lista_2"
   ]
  },
  {
   "cell_type": "code",
   "execution_count": 15,
   "id": "739937f2",
   "metadata": {},
   "outputs": [
    {
     "data": {
      "text/plain": [
       "8"
      ]
     },
     "execution_count": 15,
     "metadata": {},
     "output_type": "execute_result"
    }
   ],
   "source": [
    "# Função max() - Verifica o maior valor da lista\n",
    "\n",
    "lista_num = [1, 2, 3, 4, 5, 6, 7, 8]           # Criando uma lista\n",
    "max(lista_num)                                 # Verificando o maior valor"
   ]
  },
  {
   "cell_type": "code",
   "execution_count": 16,
   "id": "ba50547e",
   "metadata": {},
   "outputs": [
    {
     "data": {
      "text/plain": [
       "1"
      ]
     },
     "execution_count": 16,
     "metadata": {},
     "output_type": "execute_result"
    }
   ],
   "source": [
    "# Função min() - Verifica o menor valor da lista\n",
    "\n",
    "lista_num = [1, 2, 3, 4, 5, 6, 7, 8]           # Criando uma lista\n",
    "min(lista_num)                                 # Verificando o menos valor"
   ]
  },
  {
   "cell_type": "code",
   "execution_count": 17,
   "id": "014a83e7",
   "metadata": {},
   "outputs": [
    {
     "data": {
      "text/plain": [
       "['Olá', 'Olá', 'Olá']"
      ]
     },
     "execution_count": 17,
     "metadata": {},
     "output_type": "execute_result"
    }
   ],
   "source": [
    "# Multiplicando elementos\n",
    "\n",
    "['Olá'] * 3"
   ]
  },
  {
   "cell_type": "code",
   "execution_count": 18,
   "id": "2410679f",
   "metadata": {},
   "outputs": [],
   "source": [
    "# Adicionando elementos em uma lista\n",
    "\n",
    "lista.append('Cachorro')"
   ]
  },
  {
   "cell_type": "code",
   "execution_count": 19,
   "id": "d0906d5a",
   "metadata": {},
   "outputs": [
    {
     "data": {
      "text/plain": [
       "[2, 3, 'Cachorro']"
      ]
     },
     "execution_count": 19,
     "metadata": {},
     "output_type": "execute_result"
    }
   ],
   "source": [
    "# Verificando lista\n",
    "\n",
    "lista"
   ]
  },
  {
   "cell_type": "code",
   "execution_count": 20,
   "id": "0cd82115",
   "metadata": {},
   "outputs": [],
   "source": [
    "# Estendendo a lista com mais de um elemento\n",
    "\n",
    "lista.extend(['Leão', 10.5])"
   ]
  },
  {
   "cell_type": "code",
   "execution_count": 21,
   "id": "937ba4c7",
   "metadata": {},
   "outputs": [
    {
     "data": {
      "text/plain": [
       "[2, 3, 'Cachorro', 'Leão', 10.5]"
      ]
     },
     "execution_count": 21,
     "metadata": {},
     "output_type": "execute_result"
    }
   ],
   "source": [
    "# Verificando lista\n",
    "\n",
    "lista"
   ]
  },
  {
   "cell_type": "code",
   "execution_count": 22,
   "id": "76ed9de5",
   "metadata": {},
   "outputs": [
    {
     "data": {
      "text/plain": [
       "2"
      ]
     },
     "execution_count": 22,
     "metadata": {},
     "output_type": "execute_result"
    }
   ],
   "source": [
    "# Verificando o index de um elemento\n",
    "\n",
    "lista.index('Cachorro')"
   ]
  },
  {
   "cell_type": "code",
   "execution_count": 23,
   "id": "8c6f31db",
   "metadata": {},
   "outputs": [],
   "source": [
    "# Removendo elemento de uma lista\n",
    "\n",
    "lista.remove('Cachorro')"
   ]
  },
  {
   "cell_type": "code",
   "execution_count": 24,
   "id": "7019b913",
   "metadata": {},
   "outputs": [
    {
     "data": {
      "text/plain": [
       "[2, 3, 'Leão', 10.5]"
      ]
     },
     "execution_count": 24,
     "metadata": {},
     "output_type": "execute_result"
    }
   ],
   "source": [
    "# Verificando lista\n",
    "\n",
    "lista"
   ]
  },
  {
   "cell_type": "code",
   "execution_count": 25,
   "id": "f240fbc7",
   "metadata": {},
   "outputs": [
    {
     "data": {
      "text/plain": [
       "1"
      ]
     },
     "execution_count": 25,
     "metadata": {},
     "output_type": "execute_result"
    }
   ],
   "source": [
    "# Contando elemento em uma lista\n",
    "\n",
    "lista.count('Leão')"
   ]
  },
  {
   "cell_type": "code",
   "execution_count": 26,
   "id": "dd0fd196",
   "metadata": {},
   "outputs": [
    {
     "data": {
      "text/plain": [
       "[0, 1, 1, 1, 2, 4, 5, 7, 7, 8, 9]"
      ]
     },
     "execution_count": 26,
     "metadata": {},
     "output_type": "execute_result"
    }
   ],
   "source": [
    "# Ordenando lista - valores numéricos\n",
    "\n",
    "lista_x = [0, 4, 2, 1, 7, 5, 8, 1, 9, 7, 1]      # Criando uma lista\n",
    "lista_x.sort()                                   # Ordenando valores da lista\n",
    "lista_x                                          # Imprimindo lista"
   ]
  },
  {
   "cell_type": "code",
   "execution_count": 27,
   "id": "aa2ff238",
   "metadata": {},
   "outputs": [
    {
     "data": {
      "text/plain": [
       "['Abel', 'Ana', 'Caim', 'Carol', 'Jacó', 'Maria']"
      ]
     },
     "execution_count": 27,
     "metadata": {},
     "output_type": "execute_result"
    }
   ],
   "source": [
    "# Ordenando lista - palavras\n",
    "\n",
    "lista_y = ['Abel', 'Caim', 'Jacó', 'Ana', 'Maria', 'Carol']      # Criando uma lista\n",
    "lista_y.sort()                                                   # Ordenando valores da lista\n",
    "lista_y                                                          # Imprimindo lista"
   ]
  },
  {
   "cell_type": "markdown",
   "id": "338a01ef",
   "metadata": {},
   "source": [
    "**Listas Aninhadas**"
   ]
  },
  {
   "cell_type": "code",
   "execution_count": 28,
   "id": "f3e95d90",
   "metadata": {},
   "outputs": [
    {
     "data": {
      "text/plain": [
       "[['Mercedes', 'RedBull', 'Alfa Romeo'],\n",
       " ['Ferrari', 'McLaren', 'Williams'],\n",
       " ['AlphaTauri', 'Alpine', 'Aston Martin']]"
      ]
     },
     "execution_count": 28,
     "metadata": {},
     "output_type": "execute_result"
    }
   ],
   "source": [
    "# Criando listas dentro de uma lista\n",
    "\n",
    "mult_lista = [['Mercedes', 'RedBull', 'Alfa Romeo'],\n",
    "              ['Ferrari', 'McLaren', 'Williams'],\n",
    "              ['AlphaTauri', 'Alpine', 'Aston Martin']]\n",
    "mult_lista"
   ]
  },
  {
   "cell_type": "code",
   "execution_count": 29,
   "id": "a25b79b3",
   "metadata": {},
   "outputs": [
    {
     "data": {
      "text/plain": [
       "['Mercedes', 'RedBull', 'Alfa Romeo']"
      ]
     },
     "execution_count": 29,
     "metadata": {},
     "output_type": "execute_result"
    }
   ],
   "source": [
    "# Imprimindo 1° elemento da lista\n",
    "\n",
    "mult_lista[0]"
   ]
  },
  {
   "cell_type": "code",
   "execution_count": 30,
   "id": "b8217863",
   "metadata": {},
   "outputs": [
    {
     "data": {
      "text/plain": [
       "['Ferrari', 'McLaren', 'Williams']"
      ]
     },
     "execution_count": 30,
     "metadata": {},
     "output_type": "execute_result"
    }
   ],
   "source": [
    "# Imprimindo 2° elemento da lista\n",
    "\n",
    "mult_lista[1]"
   ]
  },
  {
   "cell_type": "code",
   "execution_count": 31,
   "id": "6dd72d0a",
   "metadata": {},
   "outputs": [
    {
     "data": {
      "text/plain": [
       "['AlphaTauri', 'Alpine', 'Aston Martin']"
      ]
     },
     "execution_count": 31,
     "metadata": {},
     "output_type": "execute_result"
    }
   ],
   "source": [
    "# Imprimindo 3° elemento da lista\n",
    "\n",
    "mult_lista[2]"
   ]
  },
  {
   "cell_type": "code",
   "execution_count": 32,
   "id": "7e8bbd30",
   "metadata": {},
   "outputs": [
    {
     "data": {
      "text/plain": [
       "'Mercedes'"
      ]
     },
     "execution_count": 32,
     "metadata": {},
     "output_type": "execute_result"
    }
   ],
   "source": [
    "# Imprimindo o 1° elemento da 1ª lista\n",
    "\n",
    "mult_lista[0][0]"
   ]
  },
  {
   "cell_type": "code",
   "execution_count": 33,
   "id": "b92b3af9",
   "metadata": {},
   "outputs": [
    {
     "data": {
      "text/plain": [
       "'McLaren'"
      ]
     },
     "execution_count": 33,
     "metadata": {},
     "output_type": "execute_result"
    }
   ],
   "source": [
    "# Imprimindo o 2° elemento da 2ª lista\n",
    "\n",
    "mult_lista[1][1]"
   ]
  },
  {
   "cell_type": "code",
   "execution_count": 34,
   "id": "143b47c3",
   "metadata": {},
   "outputs": [
    {
     "data": {
      "text/plain": [
       "'Aston Martin'"
      ]
     },
     "execution_count": 34,
     "metadata": {},
     "output_type": "execute_result"
    }
   ],
   "source": [
    "# Imprimindo o 3° elemento da 3ª lista\n",
    "\n",
    "mult_lista[2][2]"
   ]
  }
 ],
 "metadata": {
  "kernelspec": {
   "display_name": "Python 3",
   "language": "python",
   "name": "python3"
  },
  "language_info": {
   "codemirror_mode": {
    "name": "ipython",
    "version": 3
   },
   "file_extension": ".py",
   "mimetype": "text/x-python",
   "name": "python",
   "nbconvert_exporter": "python",
   "pygments_lexer": "ipython3",
   "version": "3.8.8"
  }
 },
 "nbformat": 4,
 "nbformat_minor": 5
}
