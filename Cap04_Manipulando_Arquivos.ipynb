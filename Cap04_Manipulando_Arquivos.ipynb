{
 "cells": [
  {
   "cell_type": "markdown",
   "id": "6d2de5fb",
   "metadata": {},
   "source": [
    "# Cap 04 - Dominando o Python"
   ]
  },
  {
   "cell_type": "code",
   "execution_count": null,
   "id": "4d082a29",
   "metadata": {},
   "outputs": [],
   "source": [
    "# Carregando um arquivo\n",
    "\n",
    "file = open('nome do arquivo.csv', 'r')"
   ]
  },
  {
   "cell_type": "code",
   "execution_count": null,
   "id": "bc784065",
   "metadata": {},
   "outputs": [],
   "source": [
    "# Imprimindo arquivo\n",
    "\n",
    "print(file)"
   ]
  },
  {
   "cell_type": "code",
   "execution_count": null,
   "id": "c5d44fae",
   "metadata": {},
   "outputs": [],
   "source": [
    "# Modos de Abertura de Arquivos\n",
    "\n",
    "r - Modo padrão de abertura. Permite apenas a leitura do arquivo;\n",
    "w - Modo de escrita. Permite escrever no arquivo;\n",
    "a - Modo de escrita do tipo acrescentar. Permite acrescentar informações no final do arquivo."
   ]
  },
  {
   "cell_type": "code",
   "execution_count": null,
   "id": "4aee8e79",
   "metadata": {},
   "outputs": [],
   "source": [
    "# Lendo várias linhas do arquivo\n",
    "\n",
    "lista = file.readlines()\n",
    "print(type(lista))"
   ]
  },
  {
   "cell_type": "code",
   "execution_count": null,
   "id": "62694699",
   "metadata": {},
   "outputs": [],
   "source": [
    "# Imprimindo as linhas\n",
    "\n",
    "for i in lista:\n",
    "    print(i)"
   ]
  },
  {
   "cell_type": "code",
   "execution_count": null,
   "id": "f0d12f78",
   "metadata": {},
   "outputs": [],
   "source": [
    "# Imprimindo a quantidade de caracteres que contém o arquivo\n",
    "\n",
    "print(file.tell())"
   ]
  },
  {
   "cell_type": "code",
   "execution_count": null,
   "id": "73b45940",
   "metadata": {},
   "outputs": [],
   "source": [
    "# Lendo um arquivo\n",
    "\n",
    "file = open('nome do arquivo.csv')\n",
    "print(file.read())"
   ]
  },
  {
   "cell_type": "markdown",
   "id": "44f16fc2",
   "metadata": {},
   "source": [
    "**Interando sobre um arquivo**"
   ]
  },
  {
   "cell_type": "code",
   "execution_count": null,
   "id": "0a0ffbcd",
   "metadata": {},
   "outputs": [],
   "source": [
    "# Loop de interação\n",
    "\n",
    "file = open('nome do arquivo.csv', 'r')\n",
    "\n",
    "for linha in file:\n",
    "    print(linha)"
   ]
  },
  {
   "cell_type": "markdown",
   "id": "e90932cc",
   "metadata": {},
   "source": [
    "**Escrevendo em Arquivos**"
   ]
  },
  {
   "cell_type": "code",
   "execution_count": null,
   "id": "facb40a3",
   "metadata": {},
   "outputs": [],
   "source": [
    "# Abrindo arquivo em modo de escrita\n",
    "\n",
    "file_2 = open('resultados.txt', 'w')"
   ]
  },
  {
   "cell_type": "code",
   "execution_count": null,
   "id": "c9601f66",
   "metadata": {},
   "outputs": [],
   "source": [
    "# Método write(): escrevendo em arquivos\n",
    "\n",
    "file_2.write('Rivaldo Correia Santos Júnior')\n",
    "file_2.write('Jefferson Aldino Barroso Correia Santos')"
   ]
  },
  {
   "cell_type": "code",
   "execution_count": null,
   "id": "ddc6abc1",
   "metadata": {},
   "outputs": [],
   "source": [
    "# Fechando arquivo\n",
    "\n",
    "file_2.close()"
   ]
  },
  {
   "cell_type": "code",
   "execution_count": null,
   "id": "8beaddbd",
   "metadata": {},
   "outputs": [],
   "source": [
    "# Adicionando linha ao final do arquivo\n",
    "\n",
    "file_2 = open('resultados.txt', 'a') # Abrindo o arquivo\n",
    "file_2.write('Fim!')                 # Escrevendo no arquivo\n",
    "file_2.close()                       # Fechando o arquivo"
   ]
  },
  {
   "cell_type": "code",
   "execution_count": null,
   "id": "097904c4",
   "metadata": {},
   "outputs": [],
   "source": [
    "# Abrindo arquivo em modo de leitura\n",
    "\n",
    "file_2 = open('resultados.txt', 'r')"
   ]
  },
  {
   "cell_type": "code",
   "execution_count": null,
   "id": "e33b54ea",
   "metadata": {},
   "outputs": [],
   "source": [
    "# Lendo linha a linha do arquivo\n",
    "\n",
    "file_2.readlines()"
   ]
  },
  {
   "cell_type": "markdown",
   "id": "4a1f31c4",
   "metadata": {},
   "source": [
    "**Método Writelines()**"
   ]
  },
  {
   "cell_type": "code",
   "execution_count": null,
   "id": "445c5478",
   "metadata": {},
   "outputs": [],
   "source": [
    "# Permite escrever uma lista de dados no arquivo\n",
    "\n",
    "lista = ['Amarelo', 'Azul', 'Verde', 'Roxo']     # Criando uma lista\n",
    "file_2 = open('resultados.txt', 'w')             # Abrindo arquivo em modo escrita\n",
    "file_2.write(lista)                              # Escrendo conteúdo da lista no arquivo\n",
    "file_2.close()                                   # Fechando arquivo\n",
    "\n",
    "file_2 = open('resultados.txt', 'r')             # Abrindo arquivo em modo de leitura\n",
    "file_2.readlines()                               # Imprimindo conteúdo do arquivo"
   ]
  },
  {
   "cell_type": "markdown",
   "id": "33fc8439",
   "metadata": {},
   "source": [
    "**Trabalhando com a Instrução With**"
   ]
  },
  {
   "cell_type": "code",
   "execution_count": null,
   "id": "c79e53ba",
   "metadata": {},
   "outputs": [],
   "source": [
    "# Com o with, o python fecha o arquivo automaticamente\n",
    "\n",
    "with open('resultados.txt') as file_2:\n",
    "    print(file_2.read())"
   ]
  },
  {
   "cell_type": "markdown",
   "id": "852119eb",
   "metadata": {},
   "source": [
    "**Separando palavras por linhas**"
   ]
  },
  {
   "cell_type": "code",
   "execution_count": null,
   "id": "05c4848c",
   "metadata": {},
   "outputs": [],
   "source": [
    "# Separando palavras\n",
    "\n",
    "for linha in data:\n",
    "    print(linha.split())"
   ]
  }
 ],
 "metadata": {
  "kernelspec": {
   "display_name": "Python 3",
   "language": "python",
   "name": "python3"
  },
  "language_info": {
   "codemirror_mode": {
    "name": "ipython",
    "version": 3
   },
   "file_extension": ".py",
   "mimetype": "text/x-python",
   "name": "python",
   "nbconvert_exporter": "python",
   "pygments_lexer": "ipython3",
   "version": "3.8.8"
  }
 },
 "nbformat": 4,
 "nbformat_minor": 5
}
