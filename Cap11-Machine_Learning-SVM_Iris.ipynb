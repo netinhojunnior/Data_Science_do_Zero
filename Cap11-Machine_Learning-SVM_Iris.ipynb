{
 "cells": [
  {
   "cell_type": "markdown",
   "id": "343530d6",
   "metadata": {},
   "source": [
    "# Machine Learning"
   ]
  },
  {
   "cell_type": "markdown",
   "id": "e533c39f",
   "metadata": {},
   "source": [
    "## SVM - Máquina Vetor de Suporte"
   ]
  },
  {
   "cell_type": "markdown",
   "id": "e9f3d015",
   "metadata": {},
   "source": [
    "* **Trabalhando com o conjunto de dados Iris**"
   ]
  },
  {
   "cell_type": "code",
   "execution_count": null,
   "id": "35509e45",
   "metadata": {},
   "outputs": [],
   "source": [
    "# Carregando bibliotecas\n",
    "\n",
    "import pandas as pd\n",
    "import numpy as np\n",
    "import matplotlib.pyplot as plt\n",
    "\n",
    "from sklearn.model_selection import cross_val_predict\n",
    "from sklearn import svm\n",
    "from sklearn import datasets\n",
    "from sklearn import metrics"
   ]
  },
  {
   "cell_type": "code",
   "execution_count": null,
   "id": "05266f25",
   "metadata": {},
   "outputs": [],
   "source": [
    "# Carreando base de dados\n",
    "\n",
    "dados = datasets.load_iris()"
   ]
  },
  {
   "cell_type": "code",
   "execution_count": null,
   "id": "c5575508",
   "metadata": {},
   "outputs": [],
   "source": [
    "# Verificando o tipo do dataset\n",
    "\n",
    "type(dados)"
   ]
  },
  {
   "cell_type": "code",
   "execution_count": null,
   "id": "eba0043b",
   "metadata": {},
   "outputs": [],
   "source": [
    "# Verificando o nome das colunas / features\n",
    "\n",
    "dados.feature_names"
   ]
  },
  {
   "cell_type": "code",
   "execution_count": null,
   "id": "2b908912",
   "metadata": {},
   "outputs": [],
   "source": [
    "# Verificando o nome das classes\n",
    "\n",
    "dados.target_names"
   ]
  },
  {
   "cell_type": "markdown",
   "id": "b405f1f6",
   "metadata": {},
   "source": [
    "**Separando os dados em previsores e classes**"
   ]
  },
  {
   "cell_type": "code",
   "execution_count": null,
   "id": "4f86b0ff",
   "metadata": {},
   "outputs": [],
   "source": [
    "# Separando os dados\n",
    "\n",
    "previsores = dados.data\n",
    "classes = dados.target"
   ]
  },
  {
   "cell_type": "code",
   "execution_count": null,
   "id": "969b7296",
   "metadata": {},
   "outputs": [],
   "source": [
    "# Visualizando a forma dos dados\n",
    "\n",
    "print(previsores.shape)\n",
    "print(classes.shape)"
   ]
  },
  {
   "cell_type": "markdown",
   "id": "bbcdc88d",
   "metadata": {},
   "source": [
    "**Visualizando os dados gráficamente**"
   ]
  },
  {
   "cell_type": "code",
   "execution_count": null,
   "id": "636e4582",
   "metadata": {},
   "outputs": [],
   "source": [
    "# Gráfico 1: dispersão dos dados de Sepal Width e Sepal Length\n",
    "\n",
    "%matplotlib notebook\n",
    "\n",
    "# Definindo o estilo do gráfico\n",
    "from matplotlib import style\n",
    "style.use('ggplot')\n",
    "\n",
    "# Definindo os labels e o título do gráfico\n",
    "plt.xlabel('Sepal Length')\n",
    "plt.ylabel('Sepal Width')\n",
    "plt.title('Sepal Width vs Sepal Length')\n",
    "\n",
    "# Definindo o tipo do gráfico e as colunas a ser plotado(a)\n",
    "plt.scatter(previsores[:, 0], previsores[:, 1], c = classes);"
   ]
  },
  {
   "cell_type": "code",
   "execution_count": null,
   "id": "2868bbb3",
   "metadata": {},
   "outputs": [],
   "source": [
    "# Gráfico 2: dispersão dos dados de Petal Width e Petal Length\n",
    "\n",
    "%matplotlib notebook\n",
    "\n",
    "# Definindo o estilo do gráfico\n",
    "from matplotlib import style\n",
    "style.use('ggplot')\n",
    "\n",
    "# Definindo o labels e título do gráfico\n",
    "plt.xlabel('Petal Length')\n",
    "plt.ylabel('Petak Width')\n",
    "plt.title('Petal Width vs Petal Length')\n",
    "\n",
    "# Definindo o tipo de gráfico e colunas a ser plotado(a)\n",
    "plt.scatter(previsores[:, 2], previsores[:, 3], c = classes);"
   ]
  },
  {
   "cell_type": "markdown",
   "id": "dc0c574e",
   "metadata": {},
   "source": [
    "### Aplicando o SVM"
   ]
  },
  {
   "cell_type": "markdown",
   "id": "5981a073",
   "metadata": {},
   "source": [
    "* Usando **80%** dos dados para treino e **20%** dos dados para teste."
   ]
  },
  {
   "cell_type": "code",
   "execution_count": null,
   "id": "49fe734c",
   "metadata": {},
   "outputs": [],
   "source": [
    "# Treinando o modelo\n",
    "\n",
    "modelo = svm.SVC().fit(previsores[: -30], classes[: -30])"
   ]
  },
  {
   "cell_type": "code",
   "execution_count": null,
   "id": "271831a5",
   "metadata": {},
   "outputs": [],
   "source": [
    "# Verificando o modelo treinado\n",
    "\n",
    "modelo"
   ]
  },
  {
   "cell_type": "code",
   "execution_count": null,
   "id": "9f67c48e",
   "metadata": {},
   "outputs": [],
   "source": [
    "# Criando um array com 20% dos dados de teste\n",
    "\n",
    "teste = previsores[-30 :]"
   ]
  },
  {
   "cell_type": "code",
   "execution_count": null,
   "id": "7a7d1241",
   "metadata": {},
   "outputs": [],
   "source": [
    "# Aplicando os SVM\n",
    "\n",
    "resultado = modelo.predict(teste)"
   ]
  },
  {
   "cell_type": "markdown",
   "id": "fa5ad327",
   "metadata": {},
   "source": [
    "**Visualizando resultados graficamente**"
   ]
  },
  {
   "cell_type": "code",
   "execution_count": null,
   "id": "6e4f562b",
   "metadata": {},
   "outputs": [],
   "source": [
    "# Gráfico 3: dispersão dos dados de Sepal Width e Sepal Length\n",
    "# Os pontos e roxo significa erros do modelo\n",
    "\n",
    "%matplotlib notebook\n",
    "\n",
    "# Definindo o estilo do gráfico\n",
    "from matplotlib import style\n",
    "style.use('ggplot')\n",
    "\n",
    "# Definindo os labels e o título do gráfico\n",
    "plt.xlabel('Sepal Length')\n",
    "plt.ylabel('Sepal Width')\n",
    "plt.title('Sepal Width vs Sepal Length')\n",
    "\n",
    "# Definindo o tipo do gráfico e as colunas a ser plotado(a)\n",
    "plt.scatter(previsores[-30:,0], previsores[-30:,1], c = resultado);"
   ]
  },
  {
   "cell_type": "code",
   "execution_count": null,
   "id": "8156ddb9",
   "metadata": {},
   "outputs": [],
   "source": [
    "# Gráfico 4: dispersão dos dados de Petal Width e Petal Length\n",
    "\n",
    "%matplotlib notebook\n",
    "\n",
    "# Definindo o estilo do gráfico\n",
    "from matplotlib import style\n",
    "style.use('ggplot')\n",
    "\n",
    "# Definindo o labels e título do gráfico\n",
    "plt.xlabel('Petal Length')\n",
    "plt.ylabel('Petak Width')\n",
    "plt.title('Petal Width vs Petal Length')\n",
    "\n",
    "# Definindo o tipo de gráfico e colunas a ser plotado(a)\n",
    "plt.scatter(previsores[-30:,2], previsores[-30:,3], c = resultado);"
   ]
  },
  {
   "cell_type": "markdown",
   "id": "dd91b01b",
   "metadata": {},
   "source": [
    "### Técnicas de Validação"
   ]
  },
  {
   "cell_type": "markdown",
   "id": "4862cd9f",
   "metadata": {},
   "source": [
    "**Matriz de Confusão**"
   ]
  },
  {
   "cell_type": "code",
   "execution_count": null,
   "id": "71f7d8cf",
   "metadata": {},
   "outputs": [],
   "source": [
    "print(pd.crosstab(classes[-30:], resultado, rownames = ['Real'], colnames = ['          Predito'], margins = True))"
   ]
  },
  {
   "cell_type": "markdown",
   "id": "2446cde9",
   "metadata": {},
   "source": [
    "**Cross Validation**"
   ]
  },
  {
   "cell_type": "code",
   "execution_count": null,
   "id": "032b9f30",
   "metadata": {},
   "outputs": [],
   "source": [
    "# Criando uma função para retorno da acurácia\n",
    "\n",
    "def Acuracia(modelo, X, y):\n",
    "    resultados = cross_val_predict(modelo, X, y, cv = 10)\n",
    "    return metrics.accuracy_score(y, resultados)"
   ]
  },
  {
   "cell_type": "code",
   "execution_count": null,
   "id": "bbd66af4",
   "metadata": {},
   "outputs": [],
   "source": [
    "# Aplicando função\n",
    "\n",
    "Acuracia(modelo, previsores, classes)"
   ]
  },
  {
   "cell_type": "markdown",
   "id": "36cf891d",
   "metadata": {},
   "source": [
    "**Métricas de Validação**"
   ]
  },
  {
   "cell_type": "code",
   "execution_count": null,
   "id": "a9381a7b",
   "metadata": {},
   "outputs": [],
   "source": [
    "resultados = cross_val_predict(modelo, previsores, classes, cv = 10)\n",
    "valor_classes = [0, 1, 2]\n",
    "print(metrics.classification_report(classes, resultados, valor_classes))"
   ]
  },
  {
   "cell_type": "code",
   "execution_count": null,
   "id": "162274a9",
   "metadata": {},
   "outputs": [],
   "source": []
  }
 ],
 "metadata": {
  "kernelspec": {
   "display_name": "Python 3 (ipykernel)",
   "language": "python",
   "name": "python3"
  },
  "language_info": {
   "codemirror_mode": {
    "name": "ipython",
    "version": 3
   },
   "file_extension": ".py",
   "mimetype": "text/x-python",
   "name": "python",
   "nbconvert_exporter": "python",
   "pygments_lexer": "ipython3",
   "version": "3.9.7"
  }
 },
 "nbformat": 4,
 "nbformat_minor": 5
}
