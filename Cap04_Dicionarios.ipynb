{
 "cells": [
  {
   "cell_type": "markdown",
   "id": "0c51f200",
   "metadata": {},
   "source": [
    "# Cap 04 - Dominando o Python"
   ]
  },
  {
   "cell_type": "markdown",
   "id": "02965567",
   "metadata": {},
   "source": [
    "### Criando um Dicionário"
   ]
  },
  {
   "cell_type": "code",
   "execution_count": 1,
   "id": "1595e4c3",
   "metadata": {},
   "outputs": [],
   "source": [
    "# Dicionário\n",
    "\n",
    "pessoas = {\n",
    "    'Rodrigo': 30, 'Marcela': 30, 'Maria': 55, 'José': 80,\n",
    "    'Pesos':{'Rodrigo': 68, 'Marcela': 70, 'Maria': 70, 'José': 87},\n",
    "    'Valores':[1, 3.5, 5, 6]\n",
    "}"
   ]
  },
  {
   "cell_type": "code",
   "execution_count": 2,
   "id": "442ca8dd",
   "metadata": {},
   "outputs": [
    {
     "data": {
      "text/plain": [
       "{'Rodrigo': 30,\n",
       " 'Marcela': 30,\n",
       " 'Maria': 55,\n",
       " 'José': 80,\n",
       " 'Pesos': {'Rodrigo': 68, 'Marcela': 70, 'Maria': 70, 'José': 87},\n",
       " 'Valores': [1, 3.5, 5, 6]}"
      ]
     },
     "execution_count": 2,
     "metadata": {},
     "output_type": "execute_result"
    }
   ],
   "source": [
    "# Imprimindo dicionário\n",
    "\n",
    "pessoas"
   ]
  },
  {
   "cell_type": "code",
   "execution_count": 3,
   "id": "44c10761",
   "metadata": {},
   "outputs": [
    {
     "data": {
      "text/plain": [
       "80"
      ]
     },
     "execution_count": 3,
     "metadata": {},
     "output_type": "execute_result"
    }
   ],
   "source": [
    "# Acessando valores de um dicionário a partir das chaves\n",
    "\n",
    "pessoas['José']"
   ]
  },
  {
   "cell_type": "code",
   "execution_count": 4,
   "id": "1c522790",
   "metadata": {},
   "outputs": [
    {
     "data": {
      "text/plain": [
       "87"
      ]
     },
     "execution_count": 4,
     "metadata": {},
     "output_type": "execute_result"
    }
   ],
   "source": [
    "# Acessando valores de um dicionário a partir das chaves: Dicionários aninhados\n",
    "\n",
    "pessoas['Pesos']['José']"
   ]
  },
  {
   "cell_type": "code",
   "execution_count": 5,
   "id": "f5609154",
   "metadata": {},
   "outputs": [
    {
     "data": {
      "text/plain": [
       "5"
      ]
     },
     "execution_count": 5,
     "metadata": {},
     "output_type": "execute_result"
    }
   ],
   "source": [
    "# Acessando lista dentro do dicionário\n",
    "\n",
    "pessoas['Valores'][2] # Exibirá o 3º elemento presente na lista"
   ]
  },
  {
   "cell_type": "markdown",
   "id": "3902f50e",
   "metadata": {},
   "source": [
    "**Atualizando Dicionário**"
   ]
  },
  {
   "cell_type": "code",
   "execution_count": 6,
   "id": "2f442cce",
   "metadata": {},
   "outputs": [
    {
     "data": {
      "text/plain": [
       "31"
      ]
     },
     "execution_count": 6,
     "metadata": {},
     "output_type": "execute_result"
    }
   ],
   "source": [
    "# Atualizando valores\n",
    "\n",
    "pessoas['Rodrigo'] = 31       # Atualizando\n",
    "pessoas['Rodrigo']            # Exibindo resultado"
   ]
  },
  {
   "cell_type": "code",
   "execution_count": 7,
   "id": "75af4beb",
   "metadata": {},
   "outputs": [
    {
     "data": {
      "text/plain": [
       "45"
      ]
     },
     "execution_count": 7,
     "metadata": {},
     "output_type": "execute_result"
    }
   ],
   "source": [
    "# Adicionando chaves e valores ao dicionário\n",
    "\n",
    "pessoas['Luiz'] = 45         # Adicionando chave e valor\n",
    "pessoas['Luiz']              # Exibindo resultado"
   ]
  },
  {
   "cell_type": "code",
   "execution_count": 8,
   "id": "0fbb126b",
   "metadata": {},
   "outputs": [
    {
     "data": {
      "text/plain": [
       "{'Rodrigo': 31,\n",
       " 'Marcela': 30,\n",
       " 'Maria': 55,\n",
       " 'José': 80,\n",
       " 'Pesos': {'Rodrigo': 68, 'Marcela': 70, 'Maria': 70, 'José': 87},\n",
       " 'Valores': [1, 3.5, 5, 6],\n",
       " 'Luiz': 45}"
      ]
     },
     "execution_count": 8,
     "metadata": {},
     "output_type": "execute_result"
    }
   ],
   "source": [
    "# Imprimindo dicionário\n",
    "\n",
    "pessoas"
   ]
  },
  {
   "cell_type": "code",
   "execution_count": 9,
   "id": "763fed49",
   "metadata": {},
   "outputs": [
    {
     "data": {
      "text/plain": [
       "{'Rodrigo': 31,\n",
       " 'Marcela': 30,\n",
       " 'Maria': 55,\n",
       " 'José': 80,\n",
       " 'Pesos': {'Rodrigo': 68, 'Marcela': 70, 'Maria': 70, 'José': 87},\n",
       " 'Valores': [1, 3.5, 5, 6]}"
      ]
     },
     "execution_count": 9,
     "metadata": {},
     "output_type": "execute_result"
    }
   ],
   "source": [
    "# Deletando elemento do dicionário\n",
    "\n",
    "del pessoas['Luiz']               # Apagando elemento\n",
    "pessoas                           # Imprimindo resultado"
   ]
  },
  {
   "cell_type": "markdown",
   "id": "442a7075",
   "metadata": {},
   "source": [
    "**Métodos Disponíveis**"
   ]
  },
  {
   "cell_type": "code",
   "execution_count": 10,
   "id": "23a3a638",
   "metadata": {},
   "outputs": [
    {
     "data": {
      "text/plain": [
       "dict_keys(['Rodrigo', 'Marcela', 'Maria', 'José', 'Pesos', 'Valores'])"
      ]
     },
     "execution_count": 10,
     "metadata": {},
     "output_type": "execute_result"
    }
   ],
   "source": [
    "# Retornando todas as chaves do dicionário\n",
    "\n",
    "pessoas.keys()"
   ]
  },
  {
   "cell_type": "code",
   "execution_count": 11,
   "id": "983d0e2a",
   "metadata": {},
   "outputs": [
    {
     "data": {
      "text/plain": [
       "dict_values([31, 30, 55, 80, {'Rodrigo': 68, 'Marcela': 70, 'Maria': 70, 'José': 87}, [1, 3.5, 5, 6]])"
      ]
     },
     "execution_count": 11,
     "metadata": {},
     "output_type": "execute_result"
    }
   ],
   "source": [
    "# Retornando os valores de todas as chaves\n",
    "\n",
    "pessoas.values()"
   ]
  },
  {
   "cell_type": "code",
   "execution_count": 12,
   "id": "e8a97167",
   "metadata": {},
   "outputs": [
    {
     "data": {
      "text/plain": [
       "{'Rodrigo': 31,\n",
       " 'Marcela': 30,\n",
       " 'Maria': 55,\n",
       " 'José': 80,\n",
       " 'Pesos': {'Rodrigo': 68, 'Marcela': 70, 'Maria': 70, 'José': 87},\n",
       " 'Valores': [1, 3.5, 5, 6],\n",
       " 'Norma': 62,\n",
       " 'Eliana': 61}"
      ]
     },
     "execution_count": 12,
     "metadata": {},
     "output_type": "execute_result"
    }
   ],
   "source": [
    "# Atualizando o dicionário: Método Update()\n",
    "\n",
    "pessoas_2 = {'Norma': 62, 'Eliana': 61}       # Criando um dicionário\n",
    "pessoas.update(pessoas_2)                     # Atualizando o dicionário 'pessoas' com 'pessoas_2'\n",
    "pessoas                                       # Exibindo o resultado"
   ]
  },
  {
   "cell_type": "code",
   "execution_count": 13,
   "id": "f92d70fb",
   "metadata": {},
   "outputs": [
    {
     "data": {
      "text/plain": [
       "62"
      ]
     },
     "execution_count": 13,
     "metadata": {},
     "output_type": "execute_result"
    }
   ],
   "source": [
    "# Verificando a existencia da chave no dicionário\n",
    "\n",
    "pessoas.get('Norma', 'Não existe') # Caso exista, retorna o valor, se não exitir, retorna o parâmetro"
   ]
  },
  {
   "cell_type": "code",
   "execution_count": 14,
   "id": "1946d899",
   "metadata": {},
   "outputs": [
    {
     "data": {
      "text/plain": [
       "30"
      ]
     },
     "execution_count": 14,
     "metadata": {},
     "output_type": "execute_result"
    }
   ],
   "source": [
    "# Verificando a existencia da chave no dicionário\n",
    "\n",
    "pessoas.setdefault('Ricardo', 30) # Caso exista, retorna o valor, se não exitir, irá adicionar"
   ]
  },
  {
   "cell_type": "code",
   "execution_count": 15,
   "id": "e237d2a3",
   "metadata": {},
   "outputs": [
    {
     "data": {
      "text/plain": [
       "{'Rodrigo': 31,\n",
       " 'Marcela': 30,\n",
       " 'Maria': 55,\n",
       " 'José': 80,\n",
       " 'Pesos': {'Rodrigo': 68, 'Marcela': 70, 'Maria': 70, 'José': 87},\n",
       " 'Valores': [1, 3.5, 5, 6],\n",
       " 'Norma': 62,\n",
       " 'Eliana': 61,\n",
       " 'Ricardo': 30}"
      ]
     },
     "execution_count": 15,
     "metadata": {},
     "output_type": "execute_result"
    }
   ],
   "source": [
    "# Verificando dicionário\n",
    "\n",
    "pessoas"
   ]
  },
  {
   "cell_type": "code",
   "execution_count": 16,
   "id": "df71486c",
   "metadata": {},
   "outputs": [
    {
     "data": {
      "text/plain": [
       "31"
      ]
     },
     "execution_count": 16,
     "metadata": {},
     "output_type": "execute_result"
    }
   ],
   "source": [
    "# Retornando e removendo chave. Se não encontrada, retorna o valor do parâmetro\n",
    "\n",
    "pessoas.pop('Rodrigo', 'Esta chave foi removida')"
   ]
  },
  {
   "cell_type": "code",
   "execution_count": 17,
   "id": "921bf76c",
   "metadata": {},
   "outputs": [
    {
     "data": {
      "text/plain": [
       "{'Marcela': 30,\n",
       " 'Maria': 55,\n",
       " 'José': 80,\n",
       " 'Pesos': {'Rodrigo': 68, 'Marcela': 70, 'Maria': 70, 'José': 87},\n",
       " 'Valores': [1, 3.5, 5, 6],\n",
       " 'Norma': 62,\n",
       " 'Eliana': 61,\n",
       " 'Ricardo': 30}"
      ]
     },
     "execution_count": 17,
     "metadata": {},
     "output_type": "execute_result"
    }
   ],
   "source": [
    "# Imprimindo dicionário\n",
    "\n",
    "pessoas"
   ]
  },
  {
   "cell_type": "code",
   "execution_count": 18,
   "id": "a3a23681",
   "metadata": {},
   "outputs": [],
   "source": [
    "# Apagando todo o conteúdo do dicionário\n",
    "\n",
    "pessoas.clear()"
   ]
  },
  {
   "cell_type": "code",
   "execution_count": 19,
   "id": "daf1941d",
   "metadata": {},
   "outputs": [
    {
     "data": {
      "text/plain": [
       "{}"
      ]
     },
     "execution_count": 19,
     "metadata": {},
     "output_type": "execute_result"
    }
   ],
   "source": [
    "# Verificando dicionário\n",
    "\n",
    "pessoas"
   ]
  }
 ],
 "metadata": {
  "kernelspec": {
   "display_name": "Python 3",
   "language": "python",
   "name": "python3"
  },
  "language_info": {
   "codemirror_mode": {
    "name": "ipython",
    "version": 3
   },
   "file_extension": ".py",
   "mimetype": "text/x-python",
   "name": "python",
   "nbconvert_exporter": "python",
   "pygments_lexer": "ipython3",
   "version": "3.8.8"
  }
 },
 "nbformat": 4,
 "nbformat_minor": 5
}
